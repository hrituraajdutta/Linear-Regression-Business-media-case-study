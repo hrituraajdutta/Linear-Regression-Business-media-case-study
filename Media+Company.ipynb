{
 "cells": [
  {
   "cell_type": "markdown",
   "metadata": {},
   "source": [
    "## Media Company Case Study"
   ]
  },
  {
   "cell_type": "markdown",
   "metadata": {},
   "source": [
    "Problem Statement: A digital media company (similar to Voot, Hotstar, Netflix, etc.) had launched a show. Initially, the show got a good response, but then witnessed a decline in viewership. The company wants to figure out what went wrong."
   ]
  },
  {
   "cell_type": "code",
   "execution_count": 68,
   "metadata": {},
   "outputs": [],
   "source": [
    "# Importing all required packages\n",
    "import numpy as np\n",
    "import pandas as pd\n",
    "import matplotlib.pyplot as plt\n",
    "import seaborn as sns\n",
    "%matplotlib inline"
   ]
  },
  {
   "cell_type": "code",
   "execution_count": 69,
   "metadata": {},
   "outputs": [
    {
     "data": {
      "text/html": [
       "<div>\n",
       "<style scoped>\n",
       "    .dataframe tbody tr th:only-of-type {\n",
       "        vertical-align: middle;\n",
       "    }\n",
       "\n",
       "    .dataframe tbody tr th {\n",
       "        vertical-align: top;\n",
       "    }\n",
       "\n",
       "    .dataframe thead th {\n",
       "        text-align: right;\n",
       "    }\n",
       "</style>\n",
       "<table border=\"1\" class=\"dataframe\">\n",
       "  <thead>\n",
       "    <tr style=\"text-align: right;\">\n",
       "      <th></th>\n",
       "      <th>Date</th>\n",
       "      <th>Views_show</th>\n",
       "      <th>Visitors</th>\n",
       "      <th>Views_platform</th>\n",
       "      <th>Ad_impression</th>\n",
       "      <th>Cricket_match_india</th>\n",
       "      <th>Character_A</th>\n",
       "    </tr>\n",
       "  </thead>\n",
       "  <tbody>\n",
       "    <tr>\n",
       "      <th>0</th>\n",
       "      <td>3/1/2017</td>\n",
       "      <td>183738</td>\n",
       "      <td>1260228</td>\n",
       "      <td>1706478</td>\n",
       "      <td>1060860448</td>\n",
       "      <td>0</td>\n",
       "      <td>0</td>\n",
       "    </tr>\n",
       "    <tr>\n",
       "      <th>1</th>\n",
       "      <td>3/2/2017</td>\n",
       "      <td>193763</td>\n",
       "      <td>1270561</td>\n",
       "      <td>1690727</td>\n",
       "      <td>1031846645</td>\n",
       "      <td>0</td>\n",
       "      <td>0</td>\n",
       "    </tr>\n",
       "    <tr>\n",
       "      <th>2</th>\n",
       "      <td>3/3/2017</td>\n",
       "      <td>210479</td>\n",
       "      <td>1248183</td>\n",
       "      <td>1726157</td>\n",
       "      <td>1010867575</td>\n",
       "      <td>0</td>\n",
       "      <td>0</td>\n",
       "    </tr>\n",
       "    <tr>\n",
       "      <th>3</th>\n",
       "      <td>3/4/2017</td>\n",
       "      <td>240061</td>\n",
       "      <td>1492913</td>\n",
       "      <td>1855353</td>\n",
       "      <td>1079194579</td>\n",
       "      <td>1</td>\n",
       "      <td>0</td>\n",
       "    </tr>\n",
       "    <tr>\n",
       "      <th>4</th>\n",
       "      <td>3/5/2017</td>\n",
       "      <td>446314</td>\n",
       "      <td>1594712</td>\n",
       "      <td>2041418</td>\n",
       "      <td>1357736987</td>\n",
       "      <td>0</td>\n",
       "      <td>0</td>\n",
       "    </tr>\n",
       "    <tr>\n",
       "      <th>...</th>\n",
       "      <td>...</td>\n",
       "      <td>...</td>\n",
       "      <td>...</td>\n",
       "      <td>...</td>\n",
       "      <td>...</td>\n",
       "      <td>...</td>\n",
       "      <td>...</td>\n",
       "    </tr>\n",
       "    <tr>\n",
       "      <th>75</th>\n",
       "      <td>5/15/2017</td>\n",
       "      <td>313945</td>\n",
       "      <td>1808684</td>\n",
       "      <td>2226788</td>\n",
       "      <td>1398052759</td>\n",
       "      <td>1</td>\n",
       "      <td>0</td>\n",
       "    </tr>\n",
       "    <tr>\n",
       "      <th>76</th>\n",
       "      <td>5/16/2017</td>\n",
       "      <td>185689</td>\n",
       "      <td>1814227</td>\n",
       "      <td>2199844</td>\n",
       "      <td>1311961223</td>\n",
       "      <td>1</td>\n",
       "      <td>0</td>\n",
       "    </tr>\n",
       "    <tr>\n",
       "      <th>77</th>\n",
       "      <td>5/17/2017</td>\n",
       "      <td>142260</td>\n",
       "      <td>1755803</td>\n",
       "      <td>2225752</td>\n",
       "      <td>1248266254</td>\n",
       "      <td>1</td>\n",
       "      <td>0</td>\n",
       "    </tr>\n",
       "    <tr>\n",
       "      <th>78</th>\n",
       "      <td>5/18/2017</td>\n",
       "      <td>135871</td>\n",
       "      <td>1749654</td>\n",
       "      <td>2302789</td>\n",
       "      <td>1284859759</td>\n",
       "      <td>1</td>\n",
       "      <td>0</td>\n",
       "    </tr>\n",
       "    <tr>\n",
       "      <th>79</th>\n",
       "      <td>5/19/2017</td>\n",
       "      <td>108961</td>\n",
       "      <td>1746735</td>\n",
       "      <td>2279036</td>\n",
       "      <td>1246026846</td>\n",
       "      <td>1</td>\n",
       "      <td>0</td>\n",
       "    </tr>\n",
       "  </tbody>\n",
       "</table>\n",
       "<p>80 rows × 7 columns</p>\n",
       "</div>"
      ],
      "text/plain": [
       "         Date  Views_show  Visitors  Views_platform  Ad_impression  \\\n",
       "0    3/1/2017      183738   1260228         1706478     1060860448   \n",
       "1    3/2/2017      193763   1270561         1690727     1031846645   \n",
       "2    3/3/2017      210479   1248183         1726157     1010867575   \n",
       "3    3/4/2017      240061   1492913         1855353     1079194579   \n",
       "4    3/5/2017      446314   1594712         2041418     1357736987   \n",
       "..        ...         ...       ...             ...            ...   \n",
       "75  5/15/2017      313945   1808684         2226788     1398052759   \n",
       "76  5/16/2017      185689   1814227         2199844     1311961223   \n",
       "77  5/17/2017      142260   1755803         2225752     1248266254   \n",
       "78  5/18/2017      135871   1749654         2302789     1284859759   \n",
       "79  5/19/2017      108961   1746735         2279036     1246026846   \n",
       "\n",
       "    Cricket_match_india  Character_A  \n",
       "0                     0            0  \n",
       "1                     0            0  \n",
       "2                     0            0  \n",
       "3                     1            0  \n",
       "4                     0            0  \n",
       "..                  ...          ...  \n",
       "75                    1            0  \n",
       "76                    1            0  \n",
       "77                    1            0  \n",
       "78                    1            0  \n",
       "79                    1            0  \n",
       "\n",
       "[80 rows x 7 columns]"
      ]
     },
     "execution_count": 69,
     "metadata": {},
     "output_type": "execute_result"
    }
   ],
   "source": [
    "#Importing dataset\n",
    "media = pd.read_csv('mediacompany.csv')\n",
    "# media = media.drop('Unnamed: 7',axis = 1)\n",
    "\n",
    "media.drop(columns=['Unnamed: 7'],inplace=True)\n",
    "media"
   ]
  },
  {
   "cell_type": "code",
   "execution_count": 75,
   "metadata": {},
   "outputs": [
    {
     "data": {
      "text/html": [
       "<div>\n",
       "<style scoped>\n",
       "    .dataframe tbody tr th:only-of-type {\n",
       "        vertical-align: middle;\n",
       "    }\n",
       "\n",
       "    .dataframe tbody tr th {\n",
       "        vertical-align: top;\n",
       "    }\n",
       "\n",
       "    .dataframe thead th {\n",
       "        text-align: right;\n",
       "    }\n",
       "</style>\n",
       "<table border=\"1\" class=\"dataframe\">\n",
       "  <thead>\n",
       "    <tr style=\"text-align: right;\">\n",
       "      <th></th>\n",
       "      <th>Date</th>\n",
       "      <th>Views_show</th>\n",
       "      <th>Visitors</th>\n",
       "      <th>Views_platform</th>\n",
       "      <th>Ad_impression</th>\n",
       "      <th>Cricket_match_india</th>\n",
       "      <th>Character_A</th>\n",
       "    </tr>\n",
       "  </thead>\n",
       "  <tbody>\n",
       "    <tr>\n",
       "      <th>0</th>\n",
       "      <td>2017-03-01</td>\n",
       "      <td>183738</td>\n",
       "      <td>1260228</td>\n",
       "      <td>1706478</td>\n",
       "      <td>1060860448</td>\n",
       "      <td>0</td>\n",
       "      <td>0</td>\n",
       "    </tr>\n",
       "    <tr>\n",
       "      <th>1</th>\n",
       "      <td>2017-03-02</td>\n",
       "      <td>193763</td>\n",
       "      <td>1270561</td>\n",
       "      <td>1690727</td>\n",
       "      <td>1031846645</td>\n",
       "      <td>0</td>\n",
       "      <td>0</td>\n",
       "    </tr>\n",
       "    <tr>\n",
       "      <th>2</th>\n",
       "      <td>2017-03-03</td>\n",
       "      <td>210479</td>\n",
       "      <td>1248183</td>\n",
       "      <td>1726157</td>\n",
       "      <td>1010867575</td>\n",
       "      <td>0</td>\n",
       "      <td>0</td>\n",
       "    </tr>\n",
       "    <tr>\n",
       "      <th>3</th>\n",
       "      <td>2017-03-04</td>\n",
       "      <td>240061</td>\n",
       "      <td>1492913</td>\n",
       "      <td>1855353</td>\n",
       "      <td>1079194579</td>\n",
       "      <td>1</td>\n",
       "      <td>0</td>\n",
       "    </tr>\n",
       "    <tr>\n",
       "      <th>4</th>\n",
       "      <td>2017-03-05</td>\n",
       "      <td>446314</td>\n",
       "      <td>1594712</td>\n",
       "      <td>2041418</td>\n",
       "      <td>1357736987</td>\n",
       "      <td>0</td>\n",
       "      <td>0</td>\n",
       "    </tr>\n",
       "  </tbody>\n",
       "</table>\n",
       "</div>"
      ],
      "text/plain": [
       "         Date  Views_show  Visitors  Views_platform  Ad_impression  \\\n",
       "0  2017-03-01      183738   1260228         1706478     1060860448   \n",
       "1  2017-03-02      193763   1270561         1690727     1031846645   \n",
       "2  2017-03-03      210479   1248183         1726157     1010867575   \n",
       "3  2017-03-04      240061   1492913         1855353     1079194579   \n",
       "4  2017-03-05      446314   1594712         2041418     1357736987   \n",
       "\n",
       "   Cricket_match_india  Character_A  \n",
       "0                    0            0  \n",
       "1                    0            0  \n",
       "2                    0            0  \n",
       "3                    1            0  \n",
       "4                    0            0  "
      ]
     },
     "execution_count": 75,
     "metadata": {},
     "output_type": "execute_result"
    }
   ],
   "source": [
    "#Let's explore the top 5 rows\n",
    "media.head()"
   ]
  },
  {
   "cell_type": "code",
   "execution_count": 76,
   "metadata": {},
   "outputs": [
    {
     "data": {
      "text/plain": [
       "Date                   object\n",
       "Views_show              int64\n",
       "Visitors                int64\n",
       "Views_platform          int64\n",
       "Ad_impression           int64\n",
       "Cricket_match_india     int64\n",
       "Character_A             int64\n",
       "dtype: object"
      ]
     },
     "execution_count": 76,
     "metadata": {},
     "output_type": "execute_result"
    }
   ],
   "source": [
    "media.dtypes"
   ]
  },
  {
   "cell_type": "code",
   "execution_count": 77,
   "metadata": {},
   "outputs": [],
   "source": [
    "# Converting date to Pandas datetime format\n",
    "\n",
    "media['Date'] = pd.to_datetime(media['Date']).dt.date\n",
    "\n"
   ]
  },
  {
   "cell_type": "code",
   "execution_count": 78,
   "metadata": {},
   "outputs": [
    {
     "data": {
      "text/html": [
       "<div>\n",
       "<style scoped>\n",
       "    .dataframe tbody tr th:only-of-type {\n",
       "        vertical-align: middle;\n",
       "    }\n",
       "\n",
       "    .dataframe tbody tr th {\n",
       "        vertical-align: top;\n",
       "    }\n",
       "\n",
       "    .dataframe thead th {\n",
       "        text-align: right;\n",
       "    }\n",
       "</style>\n",
       "<table border=\"1\" class=\"dataframe\">\n",
       "  <thead>\n",
       "    <tr style=\"text-align: right;\">\n",
       "      <th></th>\n",
       "      <th>Date</th>\n",
       "      <th>Views_show</th>\n",
       "      <th>Visitors</th>\n",
       "      <th>Views_platform</th>\n",
       "      <th>Ad_impression</th>\n",
       "      <th>Cricket_match_india</th>\n",
       "      <th>Character_A</th>\n",
       "    </tr>\n",
       "  </thead>\n",
       "  <tbody>\n",
       "    <tr>\n",
       "      <th>0</th>\n",
       "      <td>2017-03-01</td>\n",
       "      <td>183738</td>\n",
       "      <td>1260228</td>\n",
       "      <td>1706478</td>\n",
       "      <td>1060860448</td>\n",
       "      <td>0</td>\n",
       "      <td>0</td>\n",
       "    </tr>\n",
       "    <tr>\n",
       "      <th>1</th>\n",
       "      <td>2017-03-02</td>\n",
       "      <td>193763</td>\n",
       "      <td>1270561</td>\n",
       "      <td>1690727</td>\n",
       "      <td>1031846645</td>\n",
       "      <td>0</td>\n",
       "      <td>0</td>\n",
       "    </tr>\n",
       "    <tr>\n",
       "      <th>2</th>\n",
       "      <td>2017-03-03</td>\n",
       "      <td>210479</td>\n",
       "      <td>1248183</td>\n",
       "      <td>1726157</td>\n",
       "      <td>1010867575</td>\n",
       "      <td>0</td>\n",
       "      <td>0</td>\n",
       "    </tr>\n",
       "    <tr>\n",
       "      <th>3</th>\n",
       "      <td>2017-03-04</td>\n",
       "      <td>240061</td>\n",
       "      <td>1492913</td>\n",
       "      <td>1855353</td>\n",
       "      <td>1079194579</td>\n",
       "      <td>1</td>\n",
       "      <td>0</td>\n",
       "    </tr>\n",
       "    <tr>\n",
       "      <th>4</th>\n",
       "      <td>2017-03-05</td>\n",
       "      <td>446314</td>\n",
       "      <td>1594712</td>\n",
       "      <td>2041418</td>\n",
       "      <td>1357736987</td>\n",
       "      <td>0</td>\n",
       "      <td>0</td>\n",
       "    </tr>\n",
       "  </tbody>\n",
       "</table>\n",
       "</div>"
      ],
      "text/plain": [
       "         Date  Views_show  Visitors  Views_platform  Ad_impression  \\\n",
       "0  2017-03-01      183738   1260228         1706478     1060860448   \n",
       "1  2017-03-02      193763   1270561         1690727     1031846645   \n",
       "2  2017-03-03      210479   1248183         1726157     1010867575   \n",
       "3  2017-03-04      240061   1492913         1855353     1079194579   \n",
       "4  2017-03-05      446314   1594712         2041418     1357736987   \n",
       "\n",
       "   Cricket_match_india  Character_A  \n",
       "0                    0            0  \n",
       "1                    0            0  \n",
       "2                    0            0  \n",
       "3                    1            0  \n",
       "4                    0            0  "
      ]
     },
     "execution_count": 78,
     "metadata": {},
     "output_type": "execute_result"
    }
   ],
   "source": [
    "media.head()"
   ]
  },
  {
   "cell_type": "code",
   "execution_count": 79,
   "metadata": {},
   "outputs": [
    {
     "data": {
      "text/plain": [
       "Date                   object\n",
       "Views_show              int64\n",
       "Visitors                int64\n",
       "Views_platform          int64\n",
       "Ad_impression           int64\n",
       "Cricket_match_india     int64\n",
       "Character_A             int64\n",
       "dtype: object"
      ]
     },
     "execution_count": 79,
     "metadata": {},
     "output_type": "execute_result"
    }
   ],
   "source": [
    "media.head()\n",
    "media.dtypes"
   ]
  },
  {
   "cell_type": "code",
   "execution_count": 80,
   "metadata": {},
   "outputs": [
    {
     "data": {
      "text/html": [
       "<div>\n",
       "<style scoped>\n",
       "    .dataframe tbody tr th:only-of-type {\n",
       "        vertical-align: middle;\n",
       "    }\n",
       "\n",
       "    .dataframe tbody tr th {\n",
       "        vertical-align: top;\n",
       "    }\n",
       "\n",
       "    .dataframe thead th {\n",
       "        text-align: right;\n",
       "    }\n",
       "</style>\n",
       "<table border=\"1\" class=\"dataframe\">\n",
       "  <thead>\n",
       "    <tr style=\"text-align: right;\">\n",
       "      <th></th>\n",
       "      <th>Date</th>\n",
       "      <th>Views_show</th>\n",
       "      <th>Visitors</th>\n",
       "      <th>Views_platform</th>\n",
       "      <th>Ad_impression</th>\n",
       "      <th>Cricket_match_india</th>\n",
       "      <th>Character_A</th>\n",
       "      <th>day</th>\n",
       "    </tr>\n",
       "  </thead>\n",
       "  <tbody>\n",
       "    <tr>\n",
       "      <th>0</th>\n",
       "      <td>2017-03-01</td>\n",
       "      <td>183738</td>\n",
       "      <td>1260228</td>\n",
       "      <td>1706478</td>\n",
       "      <td>1060860448</td>\n",
       "      <td>0</td>\n",
       "      <td>0</td>\n",
       "      <td>1 days</td>\n",
       "    </tr>\n",
       "    <tr>\n",
       "      <th>1</th>\n",
       "      <td>2017-03-02</td>\n",
       "      <td>193763</td>\n",
       "      <td>1270561</td>\n",
       "      <td>1690727</td>\n",
       "      <td>1031846645</td>\n",
       "      <td>0</td>\n",
       "      <td>0</td>\n",
       "      <td>2 days</td>\n",
       "    </tr>\n",
       "    <tr>\n",
       "      <th>2</th>\n",
       "      <td>2017-03-03</td>\n",
       "      <td>210479</td>\n",
       "      <td>1248183</td>\n",
       "      <td>1726157</td>\n",
       "      <td>1010867575</td>\n",
       "      <td>0</td>\n",
       "      <td>0</td>\n",
       "      <td>3 days</td>\n",
       "    </tr>\n",
       "    <tr>\n",
       "      <th>3</th>\n",
       "      <td>2017-03-04</td>\n",
       "      <td>240061</td>\n",
       "      <td>1492913</td>\n",
       "      <td>1855353</td>\n",
       "      <td>1079194579</td>\n",
       "      <td>1</td>\n",
       "      <td>0</td>\n",
       "      <td>4 days</td>\n",
       "    </tr>\n",
       "    <tr>\n",
       "      <th>4</th>\n",
       "      <td>2017-03-05</td>\n",
       "      <td>446314</td>\n",
       "      <td>1594712</td>\n",
       "      <td>2041418</td>\n",
       "      <td>1357736987</td>\n",
       "      <td>0</td>\n",
       "      <td>0</td>\n",
       "      <td>5 days</td>\n",
       "    </tr>\n",
       "  </tbody>\n",
       "</table>\n",
       "</div>"
      ],
      "text/plain": [
       "         Date  Views_show  Visitors  Views_platform  Ad_impression  \\\n",
       "0  2017-03-01      183738   1260228         1706478     1060860448   \n",
       "1  2017-03-02      193763   1270561         1690727     1031846645   \n",
       "2  2017-03-03      210479   1248183         1726157     1010867575   \n",
       "3  2017-03-04      240061   1492913         1855353     1079194579   \n",
       "4  2017-03-05      446314   1594712         2041418     1357736987   \n",
       "\n",
       "   Cricket_match_india  Character_A    day  \n",
       "0                    0            0 1 days  \n",
       "1                    0            0 2 days  \n",
       "2                    0            0 3 days  \n",
       "3                    1            0 4 days  \n",
       "4                    0            0 5 days  "
      ]
     },
     "execution_count": 80,
     "metadata": {},
     "output_type": "execute_result"
    }
   ],
   "source": [
    "# Deriving \"days since the show started\"\n",
    "from datetime import date\n",
    "d0 = date(2017, 2, 28)\n",
    "delta = media['Date'] - d0\n",
    "media['day']= delta\n",
    "media.head()\n"
   ]
  },
  {
   "cell_type": "code",
   "execution_count": 81,
   "metadata": {},
   "outputs": [
    {
     "data": {
      "text/plain": [
       "Date                            object\n",
       "Views_show                       int64\n",
       "Visitors                         int64\n",
       "Views_platform                   int64\n",
       "Ad_impression                    int64\n",
       "Cricket_match_india              int64\n",
       "Character_A                      int64\n",
       "day                    timedelta64[ns]\n",
       "dtype: object"
      ]
     },
     "execution_count": 81,
     "metadata": {},
     "output_type": "execute_result"
    }
   ],
   "source": [
    "media.head()\n",
    "media.dtypes"
   ]
  },
  {
   "cell_type": "code",
   "execution_count": 82,
   "metadata": {},
   "outputs": [],
   "source": [
    "media['day']=media['day'].astype('str')\n",
    "media['day']=media['day'].map(lambda x: x[0:2])\n",
    "media['day']=media['day'].astype('int')"
   ]
  },
  {
   "cell_type": "code",
   "execution_count": 83,
   "metadata": {},
   "outputs": [
    {
     "data": {
      "text/html": [
       "<div>\n",
       "<style scoped>\n",
       "    .dataframe tbody tr th:only-of-type {\n",
       "        vertical-align: middle;\n",
       "    }\n",
       "\n",
       "    .dataframe tbody tr th {\n",
       "        vertical-align: top;\n",
       "    }\n",
       "\n",
       "    .dataframe thead th {\n",
       "        text-align: right;\n",
       "    }\n",
       "</style>\n",
       "<table border=\"1\" class=\"dataframe\">\n",
       "  <thead>\n",
       "    <tr style=\"text-align: right;\">\n",
       "      <th></th>\n",
       "      <th>Date</th>\n",
       "      <th>Views_show</th>\n",
       "      <th>Visitors</th>\n",
       "      <th>Views_platform</th>\n",
       "      <th>Ad_impression</th>\n",
       "      <th>Cricket_match_india</th>\n",
       "      <th>Character_A</th>\n",
       "      <th>day</th>\n",
       "    </tr>\n",
       "  </thead>\n",
       "  <tbody>\n",
       "    <tr>\n",
       "      <th>0</th>\n",
       "      <td>2017-03-01</td>\n",
       "      <td>183738</td>\n",
       "      <td>1260228</td>\n",
       "      <td>1706478</td>\n",
       "      <td>1060860448</td>\n",
       "      <td>0</td>\n",
       "      <td>0</td>\n",
       "      <td>1</td>\n",
       "    </tr>\n",
       "    <tr>\n",
       "      <th>1</th>\n",
       "      <td>2017-03-02</td>\n",
       "      <td>193763</td>\n",
       "      <td>1270561</td>\n",
       "      <td>1690727</td>\n",
       "      <td>1031846645</td>\n",
       "      <td>0</td>\n",
       "      <td>0</td>\n",
       "      <td>2</td>\n",
       "    </tr>\n",
       "    <tr>\n",
       "      <th>2</th>\n",
       "      <td>2017-03-03</td>\n",
       "      <td>210479</td>\n",
       "      <td>1248183</td>\n",
       "      <td>1726157</td>\n",
       "      <td>1010867575</td>\n",
       "      <td>0</td>\n",
       "      <td>0</td>\n",
       "      <td>3</td>\n",
       "    </tr>\n",
       "    <tr>\n",
       "      <th>3</th>\n",
       "      <td>2017-03-04</td>\n",
       "      <td>240061</td>\n",
       "      <td>1492913</td>\n",
       "      <td>1855353</td>\n",
       "      <td>1079194579</td>\n",
       "      <td>1</td>\n",
       "      <td>0</td>\n",
       "      <td>4</td>\n",
       "    </tr>\n",
       "    <tr>\n",
       "      <th>4</th>\n",
       "      <td>2017-03-05</td>\n",
       "      <td>446314</td>\n",
       "      <td>1594712</td>\n",
       "      <td>2041418</td>\n",
       "      <td>1357736987</td>\n",
       "      <td>0</td>\n",
       "      <td>0</td>\n",
       "      <td>5</td>\n",
       "    </tr>\n",
       "    <tr>\n",
       "      <th>5</th>\n",
       "      <td>2017-03-06</td>\n",
       "      <td>342997</td>\n",
       "      <td>1330689</td>\n",
       "      <td>1742540</td>\n",
       "      <td>1140228426</td>\n",
       "      <td>0</td>\n",
       "      <td>0</td>\n",
       "      <td>6</td>\n",
       "    </tr>\n",
       "    <tr>\n",
       "      <th>6</th>\n",
       "      <td>2017-03-07</td>\n",
       "      <td>227313</td>\n",
       "      <td>1363579</td>\n",
       "      <td>1821742</td>\n",
       "      <td>1113811802</td>\n",
       "      <td>0</td>\n",
       "      <td>0</td>\n",
       "      <td>7</td>\n",
       "    </tr>\n",
       "    <tr>\n",
       "      <th>7</th>\n",
       "      <td>2017-03-08</td>\n",
       "      <td>180313</td>\n",
       "      <td>1353483</td>\n",
       "      <td>1795456</td>\n",
       "      <td>1083475096</td>\n",
       "      <td>0</td>\n",
       "      <td>0</td>\n",
       "      <td>8</td>\n",
       "    </tr>\n",
       "    <tr>\n",
       "      <th>8</th>\n",
       "      <td>2017-03-09</td>\n",
       "      <td>178800</td>\n",
       "      <td>1345428</td>\n",
       "      <td>1794157</td>\n",
       "      <td>1067636147</td>\n",
       "      <td>0</td>\n",
       "      <td>0</td>\n",
       "      <td>9</td>\n",
       "    </tr>\n",
       "    <tr>\n",
       "      <th>9</th>\n",
       "      <td>2017-03-10</td>\n",
       "      <td>201180</td>\n",
       "      <td>1344540</td>\n",
       "      <td>1834967</td>\n",
       "      <td>1081234843</td>\n",
       "      <td>0</td>\n",
       "      <td>0</td>\n",
       "      <td>10</td>\n",
       "    </tr>\n",
       "    <tr>\n",
       "      <th>10</th>\n",
       "      <td>2017-03-11</td>\n",
       "      <td>218956</td>\n",
       "      <td>1500926</td>\n",
       "      <td>1926280</td>\n",
       "      <td>1119900035</td>\n",
       "      <td>0</td>\n",
       "      <td>0</td>\n",
       "      <td>11</td>\n",
       "    </tr>\n",
       "    <tr>\n",
       "      <th>11</th>\n",
       "      <td>2017-03-12</td>\n",
       "      <td>437117</td>\n",
       "      <td>1554859</td>\n",
       "      <td>2015050</td>\n",
       "      <td>1390620085</td>\n",
       "      <td>0</td>\n",
       "      <td>0</td>\n",
       "      <td>12</td>\n",
       "    </tr>\n",
       "    <tr>\n",
       "      <th>12</th>\n",
       "      <td>2017-03-13</td>\n",
       "      <td>263638</td>\n",
       "      <td>1438887</td>\n",
       "      <td>1808967</td>\n",
       "      <td>1231295791</td>\n",
       "      <td>0</td>\n",
       "      <td>0</td>\n",
       "      <td>13</td>\n",
       "    </tr>\n",
       "    <tr>\n",
       "      <th>13</th>\n",
       "      <td>2017-03-14</td>\n",
       "      <td>185896</td>\n",
       "      <td>1459500</td>\n",
       "      <td>1864134</td>\n",
       "      <td>1210330496</td>\n",
       "      <td>0</td>\n",
       "      <td>0</td>\n",
       "      <td>14</td>\n",
       "    </tr>\n",
       "    <tr>\n",
       "      <th>14</th>\n",
       "      <td>2017-03-15</td>\n",
       "      <td>184346</td>\n",
       "      <td>1410668</td>\n",
       "      <td>1896352</td>\n",
       "      <td>1189319112</td>\n",
       "      <td>0</td>\n",
       "      <td>0</td>\n",
       "      <td>15</td>\n",
       "    </tr>\n",
       "    <tr>\n",
       "      <th>15</th>\n",
       "      <td>2017-03-16</td>\n",
       "      <td>132409</td>\n",
       "      <td>1394130</td>\n",
       "      <td>1867785</td>\n",
       "      <td>1152287474</td>\n",
       "      <td>0</td>\n",
       "      <td>0</td>\n",
       "      <td>16</td>\n",
       "    </tr>\n",
       "    <tr>\n",
       "      <th>16</th>\n",
       "      <td>2017-03-17</td>\n",
       "      <td>169225</td>\n",
       "      <td>1438125</td>\n",
       "      <td>1885937</td>\n",
       "      <td>1172698178</td>\n",
       "      <td>0</td>\n",
       "      <td>0</td>\n",
       "      <td>17</td>\n",
       "    </tr>\n",
       "    <tr>\n",
       "      <th>17</th>\n",
       "      <td>2017-03-18</td>\n",
       "      <td>251851</td>\n",
       "      <td>1582773</td>\n",
       "      <td>2016477</td>\n",
       "      <td>1329477115</td>\n",
       "      <td>0</td>\n",
       "      <td>0</td>\n",
       "      <td>18</td>\n",
       "    </tr>\n",
       "    <tr>\n",
       "      <th>18</th>\n",
       "      <td>2017-03-19</td>\n",
       "      <td>476130</td>\n",
       "      <td>1723653</td>\n",
       "      <td>2155393</td>\n",
       "      <td>1714732753</td>\n",
       "      <td>0</td>\n",
       "      <td>0</td>\n",
       "      <td>19</td>\n",
       "    </tr>\n",
       "    <tr>\n",
       "      <th>19</th>\n",
       "      <td>2017-03-20</td>\n",
       "      <td>279880</td>\n",
       "      <td>1528669</td>\n",
       "      <td>1924030</td>\n",
       "      <td>1588375831</td>\n",
       "      <td>0</td>\n",
       "      <td>0</td>\n",
       "      <td>20</td>\n",
       "    </tr>\n",
       "    <tr>\n",
       "      <th>20</th>\n",
       "      <td>2017-03-21</td>\n",
       "      <td>215077</td>\n",
       "      <td>1538487</td>\n",
       "      <td>2015064</td>\n",
       "      <td>1554738251</td>\n",
       "      <td>0</td>\n",
       "      <td>0</td>\n",
       "      <td>21</td>\n",
       "    </tr>\n",
       "    <tr>\n",
       "      <th>21</th>\n",
       "      <td>2017-03-22</td>\n",
       "      <td>173280</td>\n",
       "      <td>1474098</td>\n",
       "      <td>1967000</td>\n",
       "      <td>1439043318</td>\n",
       "      <td>0</td>\n",
       "      <td>0</td>\n",
       "      <td>22</td>\n",
       "    </tr>\n",
       "    <tr>\n",
       "      <th>22</th>\n",
       "      <td>2017-03-23</td>\n",
       "      <td>200993</td>\n",
       "      <td>1484382</td>\n",
       "      <td>1998116</td>\n",
       "      <td>1420880566</td>\n",
       "      <td>0</td>\n",
       "      <td>0</td>\n",
       "      <td>23</td>\n",
       "    </tr>\n",
       "    <tr>\n",
       "      <th>23</th>\n",
       "      <td>2017-03-24</td>\n",
       "      <td>206830</td>\n",
       "      <td>1461298</td>\n",
       "      <td>1965232</td>\n",
       "      <td>1402238110</td>\n",
       "      <td>0</td>\n",
       "      <td>0</td>\n",
       "      <td>24</td>\n",
       "    </tr>\n",
       "    <tr>\n",
       "      <th>24</th>\n",
       "      <td>2017-03-25</td>\n",
       "      <td>236106</td>\n",
       "      <td>1678527</td>\n",
       "      <td>2096071</td>\n",
       "      <td>1469853604</td>\n",
       "      <td>0</td>\n",
       "      <td>1</td>\n",
       "      <td>25</td>\n",
       "    </tr>\n",
       "    <tr>\n",
       "      <th>25</th>\n",
       "      <td>2017-03-26</td>\n",
       "      <td>650563</td>\n",
       "      <td>1924046</td>\n",
       "      <td>2465763</td>\n",
       "      <td>2158026705</td>\n",
       "      <td>0</td>\n",
       "      <td>1</td>\n",
       "      <td>26</td>\n",
       "    </tr>\n",
       "    <tr>\n",
       "      <th>26</th>\n",
       "      <td>2017-03-27</td>\n",
       "      <td>460492</td>\n",
       "      <td>1612675</td>\n",
       "      <td>2165206</td>\n",
       "      <td>1928850028</td>\n",
       "      <td>0</td>\n",
       "      <td>1</td>\n",
       "      <td>27</td>\n",
       "    </tr>\n",
       "    <tr>\n",
       "      <th>27</th>\n",
       "      <td>2017-03-28</td>\n",
       "      <td>379396</td>\n",
       "      <td>1635533</td>\n",
       "      <td>2241286</td>\n",
       "      <td>1830391771</td>\n",
       "      <td>0</td>\n",
       "      <td>1</td>\n",
       "      <td>28</td>\n",
       "    </tr>\n",
       "    <tr>\n",
       "      <th>28</th>\n",
       "      <td>2017-03-29</td>\n",
       "      <td>343223</td>\n",
       "      <td>1568398</td>\n",
       "      <td>2224833</td>\n",
       "      <td>1710096924</td>\n",
       "      <td>0</td>\n",
       "      <td>1</td>\n",
       "      <td>29</td>\n",
       "    </tr>\n",
       "    <tr>\n",
       "      <th>29</th>\n",
       "      <td>2017-03-30</td>\n",
       "      <td>333613</td>\n",
       "      <td>1630580</td>\n",
       "      <td>2134012</td>\n",
       "      <td>1654933815</td>\n",
       "      <td>0</td>\n",
       "      <td>1</td>\n",
       "      <td>30</td>\n",
       "    </tr>\n",
       "  </tbody>\n",
       "</table>\n",
       "</div>"
      ],
      "text/plain": [
       "          Date  Views_show  Visitors  Views_platform  Ad_impression  \\\n",
       "0   2017-03-01      183738   1260228         1706478     1060860448   \n",
       "1   2017-03-02      193763   1270561         1690727     1031846645   \n",
       "2   2017-03-03      210479   1248183         1726157     1010867575   \n",
       "3   2017-03-04      240061   1492913         1855353     1079194579   \n",
       "4   2017-03-05      446314   1594712         2041418     1357736987   \n",
       "5   2017-03-06      342997   1330689         1742540     1140228426   \n",
       "6   2017-03-07      227313   1363579         1821742     1113811802   \n",
       "7   2017-03-08      180313   1353483         1795456     1083475096   \n",
       "8   2017-03-09      178800   1345428         1794157     1067636147   \n",
       "9   2017-03-10      201180   1344540         1834967     1081234843   \n",
       "10  2017-03-11      218956   1500926         1926280     1119900035   \n",
       "11  2017-03-12      437117   1554859         2015050     1390620085   \n",
       "12  2017-03-13      263638   1438887         1808967     1231295791   \n",
       "13  2017-03-14      185896   1459500         1864134     1210330496   \n",
       "14  2017-03-15      184346   1410668         1896352     1189319112   \n",
       "15  2017-03-16      132409   1394130         1867785     1152287474   \n",
       "16  2017-03-17      169225   1438125         1885937     1172698178   \n",
       "17  2017-03-18      251851   1582773         2016477     1329477115   \n",
       "18  2017-03-19      476130   1723653         2155393     1714732753   \n",
       "19  2017-03-20      279880   1528669         1924030     1588375831   \n",
       "20  2017-03-21      215077   1538487         2015064     1554738251   \n",
       "21  2017-03-22      173280   1474098         1967000     1439043318   \n",
       "22  2017-03-23      200993   1484382         1998116     1420880566   \n",
       "23  2017-03-24      206830   1461298         1965232     1402238110   \n",
       "24  2017-03-25      236106   1678527         2096071     1469853604   \n",
       "25  2017-03-26      650563   1924046         2465763     2158026705   \n",
       "26  2017-03-27      460492   1612675         2165206     1928850028   \n",
       "27  2017-03-28      379396   1635533         2241286     1830391771   \n",
       "28  2017-03-29      343223   1568398         2224833     1710096924   \n",
       "29  2017-03-30      333613   1630580         2134012     1654933815   \n",
       "\n",
       "    Cricket_match_india  Character_A  day  \n",
       "0                     0            0    1  \n",
       "1                     0            0    2  \n",
       "2                     0            0    3  \n",
       "3                     1            0    4  \n",
       "4                     0            0    5  \n",
       "5                     0            0    6  \n",
       "6                     0            0    7  \n",
       "7                     0            0    8  \n",
       "8                     0            0    9  \n",
       "9                     0            0   10  \n",
       "10                    0            0   11  \n",
       "11                    0            0   12  \n",
       "12                    0            0   13  \n",
       "13                    0            0   14  \n",
       "14                    0            0   15  \n",
       "15                    0            0   16  \n",
       "16                    0            0   17  \n",
       "17                    0            0   18  \n",
       "18                    0            0   19  \n",
       "19                    0            0   20  \n",
       "20                    0            0   21  \n",
       "21                    0            0   22  \n",
       "22                    0            0   23  \n",
       "23                    0            0   24  \n",
       "24                    0            1   25  \n",
       "25                    0            1   26  \n",
       "26                    0            1   27  \n",
       "27                    0            1   28  \n",
       "28                    0            1   29  \n",
       "29                    0            1   30  "
      ]
     },
     "execution_count": 83,
     "metadata": {},
     "output_type": "execute_result"
    }
   ],
   "source": [
    "media.head(30)"
   ]
  },
  {
   "cell_type": "code",
   "execution_count": 84,
   "metadata": {},
   "outputs": [
    {
     "data": {
      "text/plain": [
       "<AxesSubplot:xlabel='day'>"
      ]
     },
     "execution_count": 84,
     "metadata": {},
     "output_type": "execute_result"
    },
    {
     "data": {
      "image/png": "[encoded data removed]",
      "text/plain": [
       "<Figure size 432x288 with 1 Axes>"
      ]
     },
     "metadata": {
      "needs_background": "light"
     },
     "output_type": "display_data"
    }
   ],
   "source": [
    "# days vs Views_show\n",
    "media.plot(x='day', y='Views_show')"
   ]
  },
  {
   "cell_type": "code",
   "execution_count": 107,
   "metadata": {},
   "outputs": [
    {
     "data": {
      "image/png": "[encoded data removed]",
      "text/plain": [
       "<Figure size 432x288 with 1 Axes>"
      ]
     },
     "metadata": {
      "needs_background": "light"
     },
     "output_type": "display_data"
    }
   ],
   "source": [
    "# Scatter Plot (days vs Views_show)\n",
    "colors = (0,0,1)\n",
    "area = np.pi*3\n",
    "plt.scatter(media.day, media.Views_show, s=area, color=colors, alpha=0.5)\n",
    "plt.title('Scatter plot pythonspot.com',fontdict={'fontsize':'20','color':'darkred'})\n",
    "plt.xlabel('day',fontdict={'fontsize':15})\n",
    "plt.ylabel('views_show',fontdict={'fontsize':15})\n",
    "plt.show()"
   ]
  },
  {
   "cell_type": "code",
   "execution_count": 222,
   "metadata": {},
   "outputs": [
    {
     "data": {
      "image/png": "[encoded data removed]",
      "text/plain": [
       "<Figure size 432x288 with 3 Axes>"
      ]
     },
     "metadata": {
      "needs_background": "light"
     },
     "output_type": "display_data"
    }
   ],
   "source": [
    "# plot for days vs Views_show and days vs Ad_impressions\n",
    "\n",
    "fig = plt.figure()\n",
    "host = fig.add_subplot(1,1,1)\n",
    "\n",
    "par1 = host.twinx()\n",
    "par2 = host.twinx()\n",
    "\n",
    "host.set_xlabel(\"Day\")\n",
    "host.set_ylabel(\"View_Show\")\n",
    "par1.set_ylabel(\"Ad_impression\")\n",
    "\n",
    "color1 = plt.cm.viridis(0)\n",
    "color2 = plt.cm.viridis(0.5)\n",
    "color3 = plt.cm.viridis(.9)\n",
    "\n",
    "p1, = host.plot(media.day,media.Views_show, color=color1,label=\"views_show\")\n",
    "p2, = par1.plot(media.day,media.Ad_impression,color=color2, label=\"Ad_impression\")\n",
    "\n",
    "lns = [p1, p2]\n",
    "host.legend(handles=lns, loc='best')\n",
    "\n",
    "# right, left, top, bottom\n",
    "par2.spines['right'].set_position(('outward', 70))      \n",
    "# no x-ticks                 \n",
    "# par2.xaxis.set_ticks(list(np.arange(7,85,7)))\n",
    "# Sometimes handy, same for xaxis\n",
    "#par2.yaxis.set_ticks_position('right')\n",
    "\n",
    "host.yaxis.label.set_color(p1.get_color())\n",
    "par1.yaxis.label.set_color(p2.get_color())\n",
    "\n",
    "plt.savefig(\"pyplot_multiple_y-axis.png\", bbox_inches='tight')"
   ]
  },
  {
   "cell_type": "code",
   "execution_count": 143,
   "metadata": {},
   "outputs": [
    {
     "data": {
      "text/html": [
       "<div>\n",
       "<style scoped>\n",
       "    .dataframe tbody tr th:only-of-type {\n",
       "        vertical-align: middle;\n",
       "    }\n",
       "\n",
       "    .dataframe tbody tr th {\n",
       "        vertical-align: top;\n",
       "    }\n",
       "\n",
       "    .dataframe thead th {\n",
       "        text-align: right;\n",
       "    }\n",
       "</style>\n",
       "<table border=\"1\" class=\"dataframe\">\n",
       "  <thead>\n",
       "    <tr style=\"text-align: right;\">\n",
       "      <th></th>\n",
       "      <th>Date</th>\n",
       "      <th>Views_show</th>\n",
       "      <th>Visitors</th>\n",
       "      <th>Views_platform</th>\n",
       "      <th>Ad_impression</th>\n",
       "      <th>Cricket_match_india</th>\n",
       "      <th>Character_A</th>\n",
       "      <th>day</th>\n",
       "      <th>weekday</th>\n",
       "    </tr>\n",
       "  </thead>\n",
       "  <tbody>\n",
       "    <tr>\n",
       "      <th>0</th>\n",
       "      <td>2017-03-01</td>\n",
       "      <td>183738</td>\n",
       "      <td>1260228</td>\n",
       "      <td>1706478</td>\n",
       "      <td>1060860448</td>\n",
       "      <td>0</td>\n",
       "      <td>0</td>\n",
       "      <td>1</td>\n",
       "      <td>4</td>\n",
       "    </tr>\n",
       "    <tr>\n",
       "      <th>1</th>\n",
       "      <td>2017-03-02</td>\n",
       "      <td>193763</td>\n",
       "      <td>1270561</td>\n",
       "      <td>1690727</td>\n",
       "      <td>1031846645</td>\n",
       "      <td>0</td>\n",
       "      <td>0</td>\n",
       "      <td>2</td>\n",
       "      <td>5</td>\n",
       "    </tr>\n",
       "    <tr>\n",
       "      <th>2</th>\n",
       "      <td>2017-03-03</td>\n",
       "      <td>210479</td>\n",
       "      <td>1248183</td>\n",
       "      <td>1726157</td>\n",
       "      <td>1010867575</td>\n",
       "      <td>0</td>\n",
       "      <td>0</td>\n",
       "      <td>3</td>\n",
       "      <td>6</td>\n",
       "    </tr>\n",
       "    <tr>\n",
       "      <th>3</th>\n",
       "      <td>2017-03-04</td>\n",
       "      <td>240061</td>\n",
       "      <td>1492913</td>\n",
       "      <td>1855353</td>\n",
       "      <td>1079194579</td>\n",
       "      <td>1</td>\n",
       "      <td>0</td>\n",
       "      <td>4</td>\n",
       "      <td>7</td>\n",
       "    </tr>\n",
       "    <tr>\n",
       "      <th>4</th>\n",
       "      <td>2017-03-05</td>\n",
       "      <td>446314</td>\n",
       "      <td>1594712</td>\n",
       "      <td>2041418</td>\n",
       "      <td>1357736987</td>\n",
       "      <td>0</td>\n",
       "      <td>0</td>\n",
       "      <td>5</td>\n",
       "      <td>1</td>\n",
       "    </tr>\n",
       "  </tbody>\n",
       "</table>\n",
       "</div>"
      ],
      "text/plain": [
       "         Date  Views_show  Visitors  Views_platform  Ad_impression  \\\n",
       "0  2017-03-01      183738   1260228         1706478     1060860448   \n",
       "1  2017-03-02      193763   1270561         1690727     1031846645   \n",
       "2  2017-03-03      210479   1248183         1726157     1010867575   \n",
       "3  2017-03-04      240061   1492913         1855353     1079194579   \n",
       "4  2017-03-05      446314   1594712         2041418     1357736987   \n",
       "\n",
       "   Cricket_match_india  Character_A  day  weekday  \n",
       "0                    0            0    1        4  \n",
       "1                    0            0    2        5  \n",
       "2                    0            0    3        6  \n",
       "3                    1            0    4        7  \n",
       "4                    0            0    5        1  "
      ]
     },
     "execution_count": 143,
     "metadata": {},
     "output_type": "execute_result"
    }
   ],
   "source": [
    "# Derived Metrics\n",
    "# Weekdays are taken such that 1 corresponds to Sunday and 7 to Saturday\n",
    "# Generate the weekday variable\n",
    "media['weekday'] = (media['day']+3)%7\n",
    "media.weekday.replace(0,7, inplace=True)\n",
    "media['weekday'] = media['weekday'].astype(int)\n",
    "media.head()"
   ]
  },
  {
   "cell_type": "markdown",
   "metadata": {},
   "source": [
    "#### Running first model (lm1) Weekday & visitors "
   ]
  },
  {
   "cell_type": "code",
   "execution_count": 144,
   "metadata": {},
   "outputs": [],
   "source": [
    "# Putting feature variable to X\n",
    "X = media[['Visitors','weekday']]\n",
    "\n",
    "# Putting response variable to y\n",
    "y = media['Views_show']"
   ]
  },
  {
   "cell_type": "code",
   "execution_count": 145,
   "metadata": {},
   "outputs": [],
   "source": [
    "from sklearn.linear_model import LinearRegression"
   ]
  },
  {
   "cell_type": "code",
   "execution_count": 146,
   "metadata": {},
   "outputs": [],
   "source": [
    "# Representing LinearRegression as lr(Creating LinearRegression Object)\n",
    "lm = LinearRegression()"
   ]
  },
  {
   "cell_type": "code",
   "execution_count": 147,
   "metadata": {},
   "outputs": [
    {
     "data": {
      "text/html": [
       "<style>#sk-container-id-1 {color: black;background-color: white;}#sk-container-id-1 pre{padding: 0;}#sk-container-id-1 div.sk-toggleable {background-color: white;}#sk-container-id-1 label.sk-toggleable__label {cursor: pointer;display: block;width: 100%;margin-bottom: 0;padding: 0.3em;box-sizing: border-box;text-align: center;}#sk-container-id-1 label.sk-toggleable__label-arrow:before {content: \"▸\";float: left;margin-right: 0.25em;color: #696969;}#sk-container-id-1 label.sk-toggleable__label-arrow:hover:before {color: black;}#sk-container-id-1 div.sk-estimator:hover label.sk-toggleable__label-arrow:before {color: black;}#sk-container-id-1 div.sk-toggleable__content {max-height: 0;max-width: 0;overflow: hidden;text-align: left;background-color: #f0f8ff;}#sk-container-id-1 div.sk-toggleable__content pre {margin: 0.2em;color: black;border-radius: 0.25em;background-color: #f0f8ff;}#sk-container-id-1 input.sk-toggleable__control:checked~div.sk-toggleable__content {max-height: 200px;max-width: 100%;overflow: auto;}#sk-container-id-1 input.sk-toggleable__control:checked~label.sk-toggleable__label-arrow:before {content: \"▾\";}#sk-container-id-1 div.sk-estimator input.sk-toggleable__control:checked~label.sk-toggleable__label {background-color: #d4ebff;}#sk-container-id-1 div.sk-label input.sk-toggleable__control:checked~label.sk-toggleable__label {background-color: #d4ebff;}#sk-container-id-1 input.sk-hidden--visually {border: 0;clip: rect(1px 1px 1px 1px);clip: rect(1px, 1px, 1px, 1px);height: 1px;margin: -1px;overflow: hidden;padding: 0;position: absolute;width: 1px;}#sk-container-id-1 div.sk-estimator {font-family: monospace;background-color: #f0f8ff;border: 1px dotted black;border-radius: 0.25em;box-sizing: border-box;margin-bottom: 0.5em;}#sk-container-id-1 div.sk-estimator:hover {background-color: #d4ebff;}#sk-container-id-1 div.sk-parallel-item::after {content: \"\";width: 100%;border-bottom: 1px solid gray;flex-grow: 1;}#sk-container-id-1 div.sk-label:hover label.sk-toggleable__label {background-color: #d4ebff;}#sk-container-id-1 div.sk-serial::before {content: \"\";position: absolute;border-left: 1px solid gray;box-sizing: border-box;top: 0;bottom: 0;left: 50%;z-index: 0;}#sk-container-id-1 div.sk-serial {display: flex;flex-direction: column;align-items: center;background-color: white;padding-right: 0.2em;padding-left: 0.2em;position: relative;}#sk-container-id-1 div.sk-item {position: relative;z-index: 1;}#sk-container-id-1 div.sk-parallel {display: flex;align-items: stretch;justify-content: center;background-color: white;position: relative;}#sk-container-id-1 div.sk-item::before, #sk-container-id-1 div.sk-parallel-item::before {content: \"\";position: absolute;border-left: 1px solid gray;box-sizing: border-box;top: 0;bottom: 0;left: 50%;z-index: -1;}#sk-container-id-1 div.sk-parallel-item {display: flex;flex-direction: column;z-index: 1;position: relative;background-color: white;}#sk-container-id-1 div.sk-parallel-item:first-child::after {align-self: flex-end;width: 50%;}#sk-container-id-1 div.sk-parallel-item:last-child::after {align-self: flex-start;width: 50%;}#sk-container-id-1 div.sk-parallel-item:only-child::after {width: 0;}#sk-container-id-1 div.sk-dashed-wrapped {border: 1px dashed gray;margin: 0 0.4em 0.5em 0.4em;box-sizing: border-box;padding-bottom: 0.4em;background-color: white;}#sk-container-id-1 div.sk-label label {font-family: monospace;font-weight: bold;display: inline-block;line-height: 1.2em;}#sk-container-id-1 div.sk-label-container {text-align: center;}#sk-container-id-1 div.sk-container {/* jupyter's `normalize.less` sets `[hidden] { display: none; }` but bootstrap.min.css set `[hidden] { display: none !important; }` so we also need the `!important` here to be able to override the default hidden behavior on the sphinx rendered scikit-learn.org. See: https://github.com/scikit-learn/scikit-learn/issues/21755 */display: inline-block !important;position: relative;}#sk-container-id-1 div.sk-text-repr-fallback {display: none;}</style><div id=\"sk-container-id-1\" class=\"sk-top-container\"><div class=\"sk-text-repr-fallback\"><pre>LinearRegression()</pre><b>In a Jupyter environment, please rerun this cell to show the HTML representation or trust the notebook. <br />On GitHub, the HTML representation is unable to render, please try loading this page with nbviewer.org.</b></div><div class=\"sk-container\" hidden><div class=\"sk-item\"><div class=\"sk-estimator sk-toggleable\"><input class=\"sk-toggleable__control sk-hidden--visually\" id=\"sk-estimator-id-1\" type=\"checkbox\" checked><label for=\"sk-estimator-id-1\" class=\"sk-toggleable__label sk-toggleable__label-arrow\">LinearRegression</label><div class=\"sk-toggleable__content\"><pre>LinearRegression()</pre></div></div></div></div></div>"
      ],
      "text/plain": [
       "LinearRegression()"
      ]
     },
     "execution_count": 147,
     "metadata": {},
     "output_type": "execute_result"
    }
   ],
   "source": [
    "# fit the model to the training data\n",
    "lm.fit(X,y)"
   ]
  },
  {
   "cell_type": "code",
   "execution_count": 149,
   "metadata": {},
   "outputs": [
    {
     "name": "stdout",
     "output_type": "stream",
     "text": [
      "                            OLS Regression Results                            \n",
      "==============================================================================\n",
      "Dep. Variable:             Views_show   R-squared:                       0.485\n",
      "Model:                            OLS   Adj. R-squared:                  0.472\n",
      "Method:                 Least Squares   F-statistic:                     36.26\n",
      "Date:                Wed, 25 May 2022   Prob (F-statistic):           8.01e-12\n",
      "Time:                        12:46:06   Log-Likelihood:                -1042.5\n",
      "No. Observations:                  80   AIC:                             2091.\n",
      "Df Residuals:                      77   BIC:                             2098.\n",
      "Df Model:                           2                                         \n",
      "Covariance Type:            nonrobust                                         \n",
      "==============================================================================\n",
      "                 coef    std err          t      P>|t|      [0.025      0.975]\n",
      "------------------------------------------------------------------------------\n",
      "const      -1.931e+04   5.36e+04     -0.360      0.720   -1.26e+05    8.74e+04\n",
      "x1             0.2787      0.057      4.911      0.000       0.166       0.392\n",
      "x2         -3.591e+04   6591.205     -5.448      0.000    -4.9e+04   -2.28e+04\n",
      "x3         -1.931e+04   5.36e+04     -0.360      0.720   -1.26e+05    8.74e+04\n",
      "==============================================================================\n",
      "Omnibus:                        2.684   Durbin-Watson:                   0.650\n",
      "Prob(Omnibus):                  0.261   Jarque-Bera (JB):                2.653\n",
      "Skew:                           0.423   Prob(JB):                        0.265\n",
      "Kurtosis:                       2.718   Cond. No.                     6.28e+21\n",
      "==============================================================================\n",
      "\n",
      "Notes:\n",
      "[1] Standard Errors assume that the covariance matrix of the errors is correctly specified.\n",
      "[2] The smallest eigenvalue is 5.96e-30. This might indicate that there are\n",
      "strong multicollinearity problems or that the design matrix is singular.\n"
     ]
    }
   ],
   "source": [
    "import statsmodels.api as sm\n",
    "#Unlike SKLearn, statsmodels don't automatically fit a constant, \n",
    "#so you need to use the method sm.add_constant(X) in order to add a constant. \n",
    "X = np.c_[X,np.ones(X.shape[0])]\n",
    "# create a fitted model in one line\n",
    "lm_1 = sm.OLS(y,X).fit()\n",
    "print(lm_1.summary())"
   ]
  },
  {
   "cell_type": "code",
   "execution_count": 152,
   "metadata": {},
   "outputs": [],
   "source": [
    "# create Weekend variable, with value 1 at weekends and 0 at weekdays\n",
    "def cond(i):\n",
    "    if i % 7 ==4 or i%7 == 5: return 1\n",
    "    else :return 0\n",
    "    return i\n",
    "\n",
    "media['weekend']=[cond(i) for i in media['day']]"
   ]
  },
  {
   "cell_type": "code",
   "execution_count": 153,
   "metadata": {},
   "outputs": [
    {
     "data": {
      "text/html": [
       "<div>\n",
       "<style scoped>\n",
       "    .dataframe tbody tr th:only-of-type {\n",
       "        vertical-align: middle;\n",
       "    }\n",
       "\n",
       "    .dataframe tbody tr th {\n",
       "        vertical-align: top;\n",
       "    }\n",
       "\n",
       "    .dataframe thead th {\n",
       "        text-align: right;\n",
       "    }\n",
       "</style>\n",
       "<table border=\"1\" class=\"dataframe\">\n",
       "  <thead>\n",
       "    <tr style=\"text-align: right;\">\n",
       "      <th></th>\n",
       "      <th>Date</th>\n",
       "      <th>Views_show</th>\n",
       "      <th>Visitors</th>\n",
       "      <th>Views_platform</th>\n",
       "      <th>Ad_impression</th>\n",
       "      <th>Cricket_match_india</th>\n",
       "      <th>Character_A</th>\n",
       "      <th>day</th>\n",
       "      <th>weekday</th>\n",
       "      <th>weekend</th>\n",
       "    </tr>\n",
       "  </thead>\n",
       "  <tbody>\n",
       "    <tr>\n",
       "      <th>0</th>\n",
       "      <td>2017-03-01</td>\n",
       "      <td>183738</td>\n",
       "      <td>1260228</td>\n",
       "      <td>1706478</td>\n",
       "      <td>1060860448</td>\n",
       "      <td>0</td>\n",
       "      <td>0</td>\n",
       "      <td>1</td>\n",
       "      <td>4</td>\n",
       "      <td>0</td>\n",
       "    </tr>\n",
       "    <tr>\n",
       "      <th>1</th>\n",
       "      <td>2017-03-02</td>\n",
       "      <td>193763</td>\n",
       "      <td>1270561</td>\n",
       "      <td>1690727</td>\n",
       "      <td>1031846645</td>\n",
       "      <td>0</td>\n",
       "      <td>0</td>\n",
       "      <td>2</td>\n",
       "      <td>5</td>\n",
       "      <td>0</td>\n",
       "    </tr>\n",
       "    <tr>\n",
       "      <th>2</th>\n",
       "      <td>2017-03-03</td>\n",
       "      <td>210479</td>\n",
       "      <td>1248183</td>\n",
       "      <td>1726157</td>\n",
       "      <td>1010867575</td>\n",
       "      <td>0</td>\n",
       "      <td>0</td>\n",
       "      <td>3</td>\n",
       "      <td>6</td>\n",
       "      <td>0</td>\n",
       "    </tr>\n",
       "    <tr>\n",
       "      <th>3</th>\n",
       "      <td>2017-03-04</td>\n",
       "      <td>240061</td>\n",
       "      <td>1492913</td>\n",
       "      <td>1855353</td>\n",
       "      <td>1079194579</td>\n",
       "      <td>1</td>\n",
       "      <td>0</td>\n",
       "      <td>4</td>\n",
       "      <td>7</td>\n",
       "      <td>1</td>\n",
       "    </tr>\n",
       "    <tr>\n",
       "      <th>4</th>\n",
       "      <td>2017-03-05</td>\n",
       "      <td>446314</td>\n",
       "      <td>1594712</td>\n",
       "      <td>2041418</td>\n",
       "      <td>1357736987</td>\n",
       "      <td>0</td>\n",
       "      <td>0</td>\n",
       "      <td>5</td>\n",
       "      <td>1</td>\n",
       "      <td>1</td>\n",
       "    </tr>\n",
       "  </tbody>\n",
       "</table>\n",
       "</div>"
      ],
      "text/plain": [
       "         Date  Views_show  Visitors  Views_platform  Ad_impression  \\\n",
       "0  2017-03-01      183738   1260228         1706478     1060860448   \n",
       "1  2017-03-02      193763   1270561         1690727     1031846645   \n",
       "2  2017-03-03      210479   1248183         1726157     1010867575   \n",
       "3  2017-03-04      240061   1492913         1855353     1079194579   \n",
       "4  2017-03-05      446314   1594712         2041418     1357736987   \n",
       "\n",
       "   Cricket_match_india  Character_A  day  weekday  weekend  \n",
       "0                    0            0    1        4        0  \n",
       "1                    0            0    2        5        0  \n",
       "2                    0            0    3        6        0  \n",
       "3                    1            0    4        7        1  \n",
       "4                    0            0    5        1        1  "
      ]
     },
     "execution_count": 153,
     "metadata": {},
     "output_type": "execute_result"
    }
   ],
   "source": [
    "media.head()\n"
   ]
  },
  {
   "cell_type": "markdown",
   "metadata": {},
   "source": [
    "#### Running second model (lm2) visitors & weekend"
   ]
  },
  {
   "cell_type": "code",
   "execution_count": 154,
   "metadata": {},
   "outputs": [],
   "source": [
    "# Putting feature variable to X\n",
    "X = media[['Visitors','weekend']]\n",
    "\n",
    "# Putting response variable to y\n",
    "y = media['Views_show']"
   ]
  },
  {
   "cell_type": "code",
   "execution_count": 155,
   "metadata": {},
   "outputs": [
    {
     "name": "stdout",
     "output_type": "stream",
     "text": [
      "                            OLS Regression Results                            \n",
      "==============================================================================\n",
      "Dep. Variable:             Views_show   R-squared:                       0.500\n",
      "Model:                            OLS   Adj. R-squared:                  0.487\n",
      "Method:                 Least Squares   F-statistic:                     38.55\n",
      "Date:                Wed, 25 May 2022   Prob (F-statistic):           2.51e-12\n",
      "Time:                        12:49:06   Log-Likelihood:                -1041.3\n",
      "No. Observations:                  80   AIC:                             2089.\n",
      "Df Residuals:                      77   BIC:                             2096.\n",
      "Df Model:                           2                                         \n",
      "Covariance Type:            nonrobust                                         \n",
      "==============================================================================\n",
      "                 coef    std err          t      P>|t|      [0.025      0.975]\n",
      "------------------------------------------------------------------------------\n",
      "const      -8.833e+04   1.01e+05     -0.875      0.384   -2.89e+05    1.13e+05\n",
      "Visitors       0.1934      0.061      3.160      0.002       0.071       0.315\n",
      "weekend     1.807e+05   3.15e+04      5.740      0.000    1.18e+05    2.43e+05\n",
      "==============================================================================\n",
      "Omnibus:                        1.302   Durbin-Watson:                   1.254\n",
      "Prob(Omnibus):                  0.521   Jarque-Bera (JB):                1.367\n",
      "Skew:                           0.270   Prob(JB):                        0.505\n",
      "Kurtosis:                       2.656   Cond. No.                     1.41e+07\n",
      "==============================================================================\n",
      "\n",
      "Notes:\n",
      "[1] Standard Errors assume that the covariance matrix of the errors is correctly specified.\n",
      "[2] The condition number is large, 1.41e+07. This might indicate that there are\n",
      "strong multicollinearity or other numerical problems.\n"
     ]
    }
   ],
   "source": [
    "import statsmodels.api as sm\n",
    "#Unlike SKLearn, statsmodels don't automatically fit a constant, \n",
    "#so you need to use the method sm.add_constant(X) in order to add a constant. \n",
    "X = sm.add_constant(X)\n",
    "# create a fitted model in one line\n",
    "lm_2 = sm.OLS(y,X).fit()\n",
    "print(lm_2.summary())"
   ]
  },
  {
   "cell_type": "markdown",
   "metadata": {},
   "source": [
    "#### Running third model (lm3) visitors, weekend & Character_A"
   ]
  },
  {
   "cell_type": "code",
   "execution_count": 156,
   "metadata": {},
   "outputs": [],
   "source": [
    "# Putting feature variable to X\n",
    "X = media[['Visitors','weekend','Character_A']]\n",
    "\n",
    "# Putting response variable to y\n",
    "y = media['Views_show']"
   ]
  },
  {
   "cell_type": "code",
   "execution_count": 157,
   "metadata": {},
   "outputs": [
    {
     "name": "stdout",
     "output_type": "stream",
     "text": [
      "                            OLS Regression Results                            \n",
      "==============================================================================\n",
      "Dep. Variable:             Views_show   R-squared:                       0.586\n",
      "Model:                            OLS   Adj. R-squared:                  0.570\n",
      "Method:                 Least Squares   F-statistic:                     35.84\n",
      "Date:                Wed, 25 May 2022   Prob (F-statistic):           1.53e-14\n",
      "Time:                        12:50:17   Log-Likelihood:                -1033.8\n",
      "No. Observations:                  80   AIC:                             2076.\n",
      "Df Residuals:                      76   BIC:                             2085.\n",
      "Df Model:                           3                                         \n",
      "Covariance Type:            nonrobust                                         \n",
      "===============================================================================\n",
      "                  coef    std err          t      P>|t|      [0.025      0.975]\n",
      "-------------------------------------------------------------------------------\n",
      "const       -4.722e+04   9.31e+04     -0.507      0.613   -2.33e+05    1.38e+05\n",
      "Visitors        0.1480      0.057      2.586      0.012       0.034       0.262\n",
      "weekend      1.812e+05   2.89e+04      6.281      0.000    1.24e+05    2.39e+05\n",
      "Character_A  9.542e+04   2.41e+04      3.963      0.000    4.75e+04    1.43e+05\n",
      "==============================================================================\n",
      "Omnibus:                        0.908   Durbin-Watson:                   1.600\n",
      "Prob(Omnibus):                  0.635   Jarque-Bera (JB):                0.876\n",
      "Skew:                          -0.009   Prob(JB):                        0.645\n",
      "Kurtosis:                       2.488   Cond. No.                     1.42e+07\n",
      "==============================================================================\n",
      "\n",
      "Notes:\n",
      "[1] Standard Errors assume that the covariance matrix of the errors is correctly specified.\n",
      "[2] The condition number is large, 1.42e+07. This might indicate that there are\n",
      "strong multicollinearity or other numerical problems.\n"
     ]
    }
   ],
   "source": [
    "import statsmodels.api as sm\n",
    "#Unlike SKLearn, statsmodels don't automatically fit a constant, \n",
    "#so you need to use the method sm.add_constant(X) in order to add a constant. \n",
    "X = sm.add_constant(X)\n",
    "# create a fitted model in one line\n",
    "lm_3 = sm.OLS(y,X).fit()\n",
    "print(lm_3.summary())"
   ]
  },
  {
   "cell_type": "code",
   "execution_count": 158,
   "metadata": {},
   "outputs": [],
   "source": [
    "# Create lag variable\n",
    "media['Lag_Views'] = np.roll(media['Views_show'], 1)\n",
    "media.Lag_Views.replace(108961,0, inplace=True)"
   ]
  },
  {
   "cell_type": "code",
   "execution_count": 160,
   "metadata": {},
   "outputs": [
    {
     "data": {
      "text/html": [
       "<div>\n",
       "<style scoped>\n",
       "    .dataframe tbody tr th:only-of-type {\n",
       "        vertical-align: middle;\n",
       "    }\n",
       "\n",
       "    .dataframe tbody tr th {\n",
       "        vertical-align: top;\n",
       "    }\n",
       "\n",
       "    .dataframe thead th {\n",
       "        text-align: right;\n",
       "    }\n",
       "</style>\n",
       "<table border=\"1\" class=\"dataframe\">\n",
       "  <thead>\n",
       "    <tr style=\"text-align: right;\">\n",
       "      <th></th>\n",
       "      <th>Date</th>\n",
       "      <th>Views_show</th>\n",
       "      <th>Visitors</th>\n",
       "      <th>Views_platform</th>\n",
       "      <th>Ad_impression</th>\n",
       "      <th>Cricket_match_india</th>\n",
       "      <th>Character_A</th>\n",
       "      <th>day</th>\n",
       "      <th>weekday</th>\n",
       "      <th>weekend</th>\n",
       "      <th>Lag_Views</th>\n",
       "    </tr>\n",
       "  </thead>\n",
       "  <tbody>\n",
       "    <tr>\n",
       "      <th>0</th>\n",
       "      <td>2017-03-01</td>\n",
       "      <td>183738</td>\n",
       "      <td>1260228</td>\n",
       "      <td>1706478</td>\n",
       "      <td>1060860448</td>\n",
       "      <td>0</td>\n",
       "      <td>0</td>\n",
       "      <td>1</td>\n",
       "      <td>4</td>\n",
       "      <td>0</td>\n",
       "      <td>0</td>\n",
       "    </tr>\n",
       "    <tr>\n",
       "      <th>1</th>\n",
       "      <td>2017-03-02</td>\n",
       "      <td>193763</td>\n",
       "      <td>1270561</td>\n",
       "      <td>1690727</td>\n",
       "      <td>1031846645</td>\n",
       "      <td>0</td>\n",
       "      <td>0</td>\n",
       "      <td>2</td>\n",
       "      <td>5</td>\n",
       "      <td>0</td>\n",
       "      <td>183738</td>\n",
       "    </tr>\n",
       "    <tr>\n",
       "      <th>2</th>\n",
       "      <td>2017-03-03</td>\n",
       "      <td>210479</td>\n",
       "      <td>1248183</td>\n",
       "      <td>1726157</td>\n",
       "      <td>1010867575</td>\n",
       "      <td>0</td>\n",
       "      <td>0</td>\n",
       "      <td>3</td>\n",
       "      <td>6</td>\n",
       "      <td>0</td>\n",
       "      <td>193763</td>\n",
       "    </tr>\n",
       "    <tr>\n",
       "      <th>3</th>\n",
       "      <td>2017-03-04</td>\n",
       "      <td>240061</td>\n",
       "      <td>1492913</td>\n",
       "      <td>1855353</td>\n",
       "      <td>1079194579</td>\n",
       "      <td>1</td>\n",
       "      <td>0</td>\n",
       "      <td>4</td>\n",
       "      <td>7</td>\n",
       "      <td>1</td>\n",
       "      <td>210479</td>\n",
       "    </tr>\n",
       "    <tr>\n",
       "      <th>4</th>\n",
       "      <td>2017-03-05</td>\n",
       "      <td>446314</td>\n",
       "      <td>1594712</td>\n",
       "      <td>2041418</td>\n",
       "      <td>1357736987</td>\n",
       "      <td>0</td>\n",
       "      <td>0</td>\n",
       "      <td>5</td>\n",
       "      <td>1</td>\n",
       "      <td>1</td>\n",
       "      <td>240061</td>\n",
       "    </tr>\n",
       "  </tbody>\n",
       "</table>\n",
       "</div>"
      ],
      "text/plain": [
       "         Date  Views_show  Visitors  Views_platform  Ad_impression  \\\n",
       "0  2017-03-01      183738   1260228         1706478     1060860448   \n",
       "1  2017-03-02      193763   1270561         1690727     1031846645   \n",
       "2  2017-03-03      210479   1248183         1726157     1010867575   \n",
       "3  2017-03-04      240061   1492913         1855353     1079194579   \n",
       "4  2017-03-05      446314   1594712         2041418     1357736987   \n",
       "\n",
       "   Cricket_match_india  Character_A  day  weekday  weekend  Lag_Views  \n",
       "0                    0            0    1        4        0          0  \n",
       "1                    0            0    2        5        0     183738  \n",
       "2                    0            0    3        6        0     193763  \n",
       "3                    1            0    4        7        1     210479  \n",
       "4                    0            0    5        1        1     240061  "
      ]
     },
     "execution_count": 160,
     "metadata": {},
     "output_type": "execute_result"
    }
   ],
   "source": [
    "media.head()\n"
   ]
  },
  {
   "cell_type": "markdown",
   "metadata": {},
   "source": [
    "#### Running fourth model (lm4) visitors, Character_A, Lag_views & weekend"
   ]
  },
  {
   "cell_type": "code",
   "execution_count": 161,
   "metadata": {},
   "outputs": [],
   "source": [
    "# Putting feature variable to X\n",
    "X = media[['Visitors','Character_A','Lag_Views','weekend']]\n",
    "\n",
    "# Putting response variable to y\n",
    "y = media['Views_show']\n"
   ]
  },
  {
   "cell_type": "code",
   "execution_count": 162,
   "metadata": {},
   "outputs": [
    {
     "name": "stdout",
     "output_type": "stream",
     "text": [
      "                            OLS Regression Results                            \n",
      "==============================================================================\n",
      "Dep. Variable:             Views_show   R-squared:                       0.740\n",
      "Model:                            OLS   Adj. R-squared:                  0.726\n",
      "Method:                 Least Squares   F-statistic:                     53.46\n",
      "Date:                Wed, 25 May 2022   Prob (F-statistic):           3.16e-21\n",
      "Time:                        12:54:26   Log-Likelihood:                -1015.1\n",
      "No. Observations:                  80   AIC:                             2040.\n",
      "Df Residuals:                      75   BIC:                             2052.\n",
      "Df Model:                           4                                         \n",
      "Covariance Type:            nonrobust                                         \n",
      "===============================================================================\n",
      "                  coef    std err          t      P>|t|      [0.025      0.975]\n",
      "-------------------------------------------------------------------------------\n",
      "const        -2.98e+04   7.43e+04     -0.401      0.689   -1.78e+05    1.18e+05\n",
      "Visitors        0.0659      0.047      1.394      0.167      -0.028       0.160\n",
      "Character_A  5.527e+04   2.01e+04      2.748      0.008    1.52e+04    9.53e+04\n",
      "Lag_Views       0.4317      0.065      6.679      0.000       0.303       0.560\n",
      "weekend      2.273e+05    2.4e+04      9.467      0.000    1.79e+05    2.75e+05\n",
      "==============================================================================\n",
      "Omnibus:                        1.425   Durbin-Watson:                   2.626\n",
      "Prob(Omnibus):                  0.491   Jarque-Bera (JB):                0.821\n",
      "Skew:                          -0.130   Prob(JB):                        0.663\n",
      "Kurtosis:                       3.423   Cond. No.                     1.44e+07\n",
      "==============================================================================\n",
      "\n",
      "Notes:\n",
      "[1] Standard Errors assume that the covariance matrix of the errors is correctly specified.\n",
      "[2] The condition number is large, 1.44e+07. This might indicate that there are\n",
      "strong multicollinearity or other numerical problems.\n"
     ]
    }
   ],
   "source": [
    "import statsmodels.api as sm\n",
    "#Unlike SKLearn, statsmodels don't automatically fit a constant, \n",
    "#so you need to use the method sm.add_constant(X) in order to add a constant. \n",
    "X = sm.add_constant(X)\n",
    "# create a fitted model in one line\n",
    "lm_4 = sm.OLS(y,X).fit()\n",
    "print(lm_4.summary())"
   ]
  },
  {
   "cell_type": "code",
   "execution_count": 164,
   "metadata": {},
   "outputs": [
    {
     "data": {
      "text/html": [
       "<div>\n",
       "<style scoped>\n",
       "    .dataframe tbody tr th:only-of-type {\n",
       "        vertical-align: middle;\n",
       "    }\n",
       "\n",
       "    .dataframe tbody tr th {\n",
       "        vertical-align: top;\n",
       "    }\n",
       "\n",
       "    .dataframe thead th {\n",
       "        text-align: right;\n",
       "    }\n",
       "</style>\n",
       "<table border=\"1\" class=\"dataframe\">\n",
       "  <thead>\n",
       "    <tr style=\"text-align: right;\">\n",
       "      <th></th>\n",
       "      <th>Views_show</th>\n",
       "      <th>Visitors</th>\n",
       "      <th>Views_platform</th>\n",
       "      <th>Ad_impression</th>\n",
       "      <th>Cricket_match_india</th>\n",
       "      <th>Character_A</th>\n",
       "      <th>day</th>\n",
       "      <th>weekday</th>\n",
       "      <th>weekend</th>\n",
       "      <th>Lag_Views</th>\n",
       "    </tr>\n",
       "  </thead>\n",
       "  <tbody>\n",
       "    <tr>\n",
       "      <th>Views_show</th>\n",
       "      <td>1.000000</td>\n",
       "      <td>0.535290</td>\n",
       "      <td>0.604279</td>\n",
       "      <td>0.785673</td>\n",
       "      <td>-0.083154</td>\n",
       "      <td>0.402533</td>\n",
       "      <td>-0.038521</td>\n",
       "      <td>-0.568976</td>\n",
       "      <td>0.659947</td>\n",
       "      <td>0.417580</td>\n",
       "    </tr>\n",
       "    <tr>\n",
       "      <th>Visitors</th>\n",
       "      <td>0.535290</td>\n",
       "      <td>1.000000</td>\n",
       "      <td>0.935832</td>\n",
       "      <td>0.478598</td>\n",
       "      <td>0.147210</td>\n",
       "      <td>0.223093</td>\n",
       "      <td>0.738599</td>\n",
       "      <td>-0.259023</td>\n",
       "      <td>0.470870</td>\n",
       "      <td>0.200710</td>\n",
       "    </tr>\n",
       "    <tr>\n",
       "      <th>Views_platform</th>\n",
       "      <td>0.604279</td>\n",
       "      <td>0.935832</td>\n",
       "      <td>1.000000</td>\n",
       "      <td>0.587003</td>\n",
       "      <td>0.036575</td>\n",
       "      <td>0.452375</td>\n",
       "      <td>0.641677</td>\n",
       "      <td>-0.246223</td>\n",
       "      <td>0.426731</td>\n",
       "      <td>0.241826</td>\n",
       "    </tr>\n",
       "    <tr>\n",
       "      <th>Ad_impression</th>\n",
       "      <td>0.785673</td>\n",
       "      <td>0.478598</td>\n",
       "      <td>0.587003</td>\n",
       "      <td>1.000000</td>\n",
       "      <td>-0.163936</td>\n",
       "      <td>0.644354</td>\n",
       "      <td>0.064498</td>\n",
       "      <td>-0.514240</td>\n",
       "      <td>0.329728</td>\n",
       "      <td>0.546901</td>\n",
       "    </tr>\n",
       "    <tr>\n",
       "      <th>Cricket_match_india</th>\n",
       "      <td>-0.083154</td>\n",
       "      <td>0.147210</td>\n",
       "      <td>0.036575</td>\n",
       "      <td>-0.163936</td>\n",
       "      <td>1.000000</td>\n",
       "      <td>-0.258199</td>\n",
       "      <td>0.395155</td>\n",
       "      <td>0.056886</td>\n",
       "      <td>0.074652</td>\n",
       "      <td>-0.088765</td>\n",
       "    </tr>\n",
       "    <tr>\n",
       "      <th>Character_A</th>\n",
       "      <td>0.402533</td>\n",
       "      <td>0.223093</td>\n",
       "      <td>0.452375</td>\n",
       "      <td>0.644354</td>\n",
       "      <td>-0.258199</td>\n",
       "      <td>1.000000</td>\n",
       "      <td>-0.033544</td>\n",
       "      <td>-0.014688</td>\n",
       "      <td>0.101195</td>\n",
       "      <td>0.320241</td>\n",
       "    </tr>\n",
       "    <tr>\n",
       "      <th>day</th>\n",
       "      <td>-0.038521</td>\n",
       "      <td>0.738599</td>\n",
       "      <td>0.641677</td>\n",
       "      <td>0.064498</td>\n",
       "      <td>0.395155</td>\n",
       "      <td>-0.033544</td>\n",
       "      <td>1.000000</td>\n",
       "      <td>-0.009991</td>\n",
       "      <td>-0.026671</td>\n",
       "      <td>0.027144</td>\n",
       "    </tr>\n",
       "    <tr>\n",
       "      <th>weekday</th>\n",
       "      <td>-0.568976</td>\n",
       "      <td>-0.259023</td>\n",
       "      <td>-0.246223</td>\n",
       "      <td>-0.514240</td>\n",
       "      <td>0.056886</td>\n",
       "      <td>-0.014688</td>\n",
       "      <td>-0.009991</td>\n",
       "      <td>1.000000</td>\n",
       "      <td>-0.011678</td>\n",
       "      <td>-0.603496</td>\n",
       "    </tr>\n",
       "    <tr>\n",
       "      <th>weekend</th>\n",
       "      <td>0.659947</td>\n",
       "      <td>0.470870</td>\n",
       "      <td>0.426731</td>\n",
       "      <td>0.329728</td>\n",
       "      <td>0.074652</td>\n",
       "      <td>0.101195</td>\n",
       "      <td>-0.026671</td>\n",
       "      <td>-0.011678</td>\n",
       "      <td>1.000000</td>\n",
       "      <td>-0.144469</td>\n",
       "    </tr>\n",
       "    <tr>\n",
       "      <th>Lag_Views</th>\n",
       "      <td>0.417580</td>\n",
       "      <td>0.200710</td>\n",
       "      <td>0.241826</td>\n",
       "      <td>0.546901</td>\n",
       "      <td>-0.088765</td>\n",
       "      <td>0.320241</td>\n",
       "      <td>0.027144</td>\n",
       "      <td>-0.603496</td>\n",
       "      <td>-0.144469</td>\n",
       "      <td>1.000000</td>\n",
       "    </tr>\n",
       "  </tbody>\n",
       "</table>\n",
       "</div>"
      ],
      "text/plain": [
       "                     Views_show  Visitors  Views_platform  Ad_impression  \\\n",
       "Views_show             1.000000  0.535290        0.604279       0.785673   \n",
       "Visitors               0.535290  1.000000        0.935832       0.478598   \n",
       "Views_platform         0.604279  0.935832        1.000000       0.587003   \n",
       "Ad_impression          0.785673  0.478598        0.587003       1.000000   \n",
       "Cricket_match_india   -0.083154  0.147210        0.036575      -0.163936   \n",
       "Character_A            0.402533  0.223093        0.452375       0.644354   \n",
       "day                   -0.038521  0.738599        0.641677       0.064498   \n",
       "weekday               -0.568976 -0.259023       -0.246223      -0.514240   \n",
       "weekend                0.659947  0.470870        0.426731       0.329728   \n",
       "Lag_Views              0.417580  0.200710        0.241826       0.546901   \n",
       "\n",
       "                     Cricket_match_india  Character_A       day   weekday  \\\n",
       "Views_show                     -0.083154     0.402533 -0.038521 -0.568976   \n",
       "Visitors                        0.147210     0.223093  0.738599 -0.259023   \n",
       "Views_platform                  0.036575     0.452375  0.641677 -0.246223   \n",
       "Ad_impression                  -0.163936     0.644354  0.064498 -0.514240   \n",
       "Cricket_match_india             1.000000    -0.258199  0.395155  0.056886   \n",
       "Character_A                    -0.258199     1.000000 -0.033544 -0.014688   \n",
       "day                             0.395155    -0.033544  1.000000 -0.009991   \n",
       "weekday                         0.056886    -0.014688 -0.009991  1.000000   \n",
       "weekend                         0.074652     0.101195 -0.026671 -0.011678   \n",
       "Lag_Views                      -0.088765     0.320241  0.027144 -0.603496   \n",
       "\n",
       "                      weekend  Lag_Views  \n",
       "Views_show           0.659947   0.417580  \n",
       "Visitors             0.470870   0.200710  \n",
       "Views_platform       0.426731   0.241826  \n",
       "Ad_impression        0.329728   0.546901  \n",
       "Cricket_match_india  0.074652  -0.088765  \n",
       "Character_A          0.101195   0.320241  \n",
       "day                 -0.026671   0.027144  \n",
       "weekday             -0.011678  -0.603496  \n",
       "weekend              1.000000  -0.144469  \n",
       "Lag_Views           -0.144469   1.000000  "
      ]
     },
     "execution_count": 164,
     "metadata": {},
     "output_type": "execute_result"
    }
   ],
   "source": [
    "media.corr(method='pearson')"
   ]
  },
  {
   "cell_type": "code",
   "execution_count": 163,
   "metadata": {},
   "outputs": [
    {
     "data": {
      "text/plain": [
       "<AxesSubplot:>"
      ]
     },
     "execution_count": 163,
     "metadata": {},
     "output_type": "execute_result"
    },
    {
     "data": {
      "image/png": "[encoded data removed]",
      "text/plain": [
       "<Figure size 1440x720 with 2 Axes>"
      ]
     },
     "metadata": {
      "needs_background": "light"
     },
     "output_type": "display_data"
    }
   ],
   "source": [
    "plt.figure(figsize = (20,10))        # Size of the figure\n",
    "sns.heatmap(media.corr(),annot = True)"
   ]
  },
  {
   "cell_type": "markdown",
   "metadata": {},
   "source": [
    "#### Running fifth model (lm5) Character_A, weekend & Views_platform"
   ]
  },
  {
   "cell_type": "code",
   "execution_count": 165,
   "metadata": {},
   "outputs": [],
   "source": [
    "# Putting feature variable to X\n",
    "X = media[['weekend','Character_A','Views_platform']]\n",
    "\n",
    "# Putting response variable to y\n",
    "y = media['Views_show']"
   ]
  },
  {
   "cell_type": "code",
   "execution_count": 166,
   "metadata": {},
   "outputs": [
    {
     "name": "stdout",
     "output_type": "stream",
     "text": [
      "                            OLS Regression Results                            \n",
      "==============================================================================\n",
      "Dep. Variable:             Views_show   R-squared:                       0.602\n",
      "Model:                            OLS   Adj. R-squared:                  0.586\n",
      "Method:                 Least Squares   F-statistic:                     38.24\n",
      "Date:                Wed, 25 May 2022   Prob (F-statistic):           3.59e-15\n",
      "Time:                        12:59:41   Log-Likelihood:                -1032.3\n",
      "No. Observations:                  80   AIC:                             2073.\n",
      "Df Residuals:                      76   BIC:                             2082.\n",
      "Df Model:                           3                                         \n",
      "Covariance Type:            nonrobust                                         \n",
      "==================================================================================\n",
      "                     coef    std err          t      P>|t|      [0.025      0.975]\n",
      "----------------------------------------------------------------------------------\n",
      "const          -1.205e+05   9.97e+04     -1.208      0.231   -3.19e+05    7.81e+04\n",
      "weekend         1.781e+05   2.78e+04      6.410      0.000    1.23e+05    2.33e+05\n",
      "Character_A     7.062e+04    2.6e+04      2.717      0.008    1.89e+04    1.22e+05\n",
      "Views_platform     0.1507      0.048      3.152      0.002       0.055       0.246\n",
      "==============================================================================\n",
      "Omnibus:                        4.279   Durbin-Watson:                   1.516\n",
      "Prob(Omnibus):                  0.118   Jarque-Bera (JB):                2.153\n",
      "Skew:                           0.061   Prob(JB):                        0.341\n",
      "Kurtosis:                       2.206   Cond. No.                     2.03e+07\n",
      "==============================================================================\n",
      "\n",
      "Notes:\n",
      "[1] Standard Errors assume that the covariance matrix of the errors is correctly specified.\n",
      "[2] The condition number is large, 2.03e+07. This might indicate that there are\n",
      "strong multicollinearity or other numerical problems.\n"
     ]
    }
   ],
   "source": [
    "import statsmodels.api as sm\n",
    "#Unlike SKLearn, statsmodels don't automatically fit a constant, \n",
    "#so you need to use the method sm.add_constant(X) in order to add a constant. \n",
    "X = sm.add_constant(X)\n",
    "# create a fitted model in one line\n",
    "lm_5 = sm.OLS(y,X).fit()\n",
    "print(lm_5.summary())"
   ]
  },
  {
   "cell_type": "markdown",
   "metadata": {},
   "source": [
    "#### Running sixth model (lm6) Character_A, weekend & Visitors"
   ]
  },
  {
   "cell_type": "code",
   "execution_count": 167,
   "metadata": {},
   "outputs": [],
   "source": [
    "# Putting feature variable to X\n",
    "X = media[['weekend','Character_A','Visitors']]\n",
    "\n",
    "# Putting response variable to y\n",
    "y = media['Views_show']"
   ]
  },
  {
   "cell_type": "code",
   "execution_count": 168,
   "metadata": {},
   "outputs": [
    {
     "name": "stdout",
     "output_type": "stream",
     "text": [
      "                            OLS Regression Results                            \n",
      "==============================================================================\n",
      "Dep. Variable:             Views_show   R-squared:                       0.586\n",
      "Model:                            OLS   Adj. R-squared:                  0.570\n",
      "Method:                 Least Squares   F-statistic:                     35.84\n",
      "Date:                Wed, 25 May 2022   Prob (F-statistic):           1.53e-14\n",
      "Time:                        13:03:46   Log-Likelihood:                -1033.8\n",
      "No. Observations:                  80   AIC:                             2076.\n",
      "Df Residuals:                      76   BIC:                             2085.\n",
      "Df Model:                           3                                         \n",
      "Covariance Type:            nonrobust                                         \n",
      "===============================================================================\n",
      "                  coef    std err          t      P>|t|      [0.025      0.975]\n",
      "-------------------------------------------------------------------------------\n",
      "const       -4.722e+04   9.31e+04     -0.507      0.613   -2.33e+05    1.38e+05\n",
      "weekend      1.812e+05   2.89e+04      6.281      0.000    1.24e+05    2.39e+05\n",
      "Character_A  9.542e+04   2.41e+04      3.963      0.000    4.75e+04    1.43e+05\n",
      "Visitors        0.1480      0.057      2.586      0.012       0.034       0.262\n",
      "==============================================================================\n",
      "Omnibus:                        0.908   Durbin-Watson:                   1.600\n",
      "Prob(Omnibus):                  0.635   Jarque-Bera (JB):                0.876\n",
      "Skew:                          -0.009   Prob(JB):                        0.645\n",
      "Kurtosis:                       2.488   Cond. No.                     1.42e+07\n",
      "==============================================================================\n",
      "\n",
      "Notes:\n",
      "[1] Standard Errors assume that the covariance matrix of the errors is correctly specified.\n",
      "[2] The condition number is large, 1.42e+07. This might indicate that there are\n",
      "strong multicollinearity or other numerical problems.\n"
     ]
    }
   ],
   "source": [
    "import statsmodels.api as sm\n",
    "#Unlike SKLearn, statsmodels don't automatically fit a constant, \n",
    "#so you need to use the method sm.add_constant(X) in order to add a constant. \n",
    "X = sm.add_constant(X)\n",
    "# create a fitted model in one line\n",
    "lm_6 = sm.OLS(y,X).fit()\n",
    "print(lm_6.summary())"
   ]
  },
  {
   "cell_type": "markdown",
   "metadata": {},
   "source": [
    "#### Running seventh model (lm7) Character_A, weekend, Visitors & Ad_impressions"
   ]
  },
  {
   "cell_type": "code",
   "execution_count": 169,
   "metadata": {},
   "outputs": [],
   "source": [
    "# Putting feature variable to X\n",
    "X = media[['weekend','Character_A','Visitors','Ad_impression']]\n",
    "\n",
    "# Putting response variable to y\n",
    "y = media['Views_show']"
   ]
  },
  {
   "cell_type": "code",
   "execution_count": 170,
   "metadata": {},
   "outputs": [
    {
     "name": "stdout",
     "output_type": "stream",
     "text": [
      "                            OLS Regression Results                            \n",
      "==============================================================================\n",
      "Dep. Variable:             Views_show   R-squared:                       0.803\n",
      "Model:                            OLS   Adj. R-squared:                  0.792\n",
      "Method:                 Least Squares   F-statistic:                     76.40\n",
      "Date:                Wed, 25 May 2022   Prob (F-statistic):           1.10e-25\n",
      "Time:                        13:04:40   Log-Likelihood:                -1004.1\n",
      "No. Observations:                  80   AIC:                             2018.\n",
      "Df Residuals:                      75   BIC:                             2030.\n",
      "Df Model:                           4                                         \n",
      "Covariance Type:            nonrobust                                         \n",
      "=================================================================================\n",
      "                    coef    std err          t      P>|t|      [0.025      0.975]\n",
      "---------------------------------------------------------------------------------\n",
      "const         -2.834e+05   6.97e+04     -4.067      0.000   -4.22e+05   -1.45e+05\n",
      "weekend        1.485e+05   2.04e+04      7.296      0.000    1.08e+05    1.89e+05\n",
      "Character_A   -2.934e+04   2.16e+04     -1.356      0.179   -7.24e+04    1.38e+04\n",
      "Visitors          0.0144      0.042      0.340      0.735      -0.070       0.099\n",
      "Ad_impression     0.0004   3.96e-05      9.090      0.000       0.000       0.000\n",
      "==============================================================================\n",
      "Omnibus:                        4.808   Durbin-Watson:                   1.166\n",
      "Prob(Omnibus):                  0.090   Jarque-Bera (JB):                4.007\n",
      "Skew:                           0.476   Prob(JB):                        0.135\n",
      "Kurtosis:                       3.545   Cond. No.                     1.32e+10\n",
      "==============================================================================\n",
      "\n",
      "Notes:\n",
      "[1] Standard Errors assume that the covariance matrix of the errors is correctly specified.\n",
      "[2] The condition number is large, 1.32e+10. This might indicate that there are\n",
      "strong multicollinearity or other numerical problems.\n"
     ]
    }
   ],
   "source": [
    "import statsmodels.api as sm\n",
    "#Unlike SKLearn, statsmodels don't automatically fit a constant, \n",
    "#so you need to use the method sm.add_constant(X) in order to add a constant. \n",
    "X = sm.add_constant(X)\n",
    "# create a fitted model in one line\n",
    "lm_7 = sm.OLS(y,X).fit()\n",
    "print(lm_7.summary())"
   ]
  },
  {
   "cell_type": "markdown",
   "metadata": {},
   "source": [
    "#### Running eight model (lm8) Character_A, weekend & Ad_impressions"
   ]
  },
  {
   "cell_type": "code",
   "execution_count": 187,
   "metadata": {},
   "outputs": [],
   "source": [
    "# Putting feature variable to X\n",
    "X = media[['weekend','Character_A','ad_impression_million']]\n",
    "\n",
    "# Putting response variable to y\n",
    "y = media['Views_show']"
   ]
  },
  {
   "cell_type": "code",
   "execution_count": 188,
   "metadata": {},
   "outputs": [
    {
     "name": "stdout",
     "output_type": "stream",
     "text": [
      "                            OLS Regression Results                            \n",
      "==============================================================================\n",
      "Dep. Variable:             Views_show   R-squared:                       0.803\n",
      "Model:                            OLS   Adj. R-squared:                  0.795\n",
      "Method:                 Least Squares   F-statistic:                     103.0\n",
      "Date:                Wed, 25 May 2022   Prob (F-statistic):           1.05e-26\n",
      "Time:                        13:12:04   Log-Likelihood:                -1004.2\n",
      "No. Observations:                  80   AIC:                             2016.\n",
      "Df Residuals:                      76   BIC:                             2026.\n",
      "Df Model:                           3                                         \n",
      "Covariance Type:            nonrobust                                         \n",
      "=========================================================================================\n",
      "                            coef    std err          t      P>|t|      [0.025      0.975]\n",
      "-----------------------------------------------------------------------------------------\n",
      "const                 -2.661e+05   4.74e+04     -5.609      0.000   -3.61e+05   -1.72e+05\n",
      "weekend                 1.51e+05   1.88e+04      8.019      0.000    1.14e+05    1.89e+05\n",
      "Character_A            -2.99e+04   2.14e+04     -1.394      0.167   -7.26e+04    1.28e+04\n",
      "ad_impression_million   364.4670     36.909      9.875      0.000     290.957     437.977\n",
      "==============================================================================\n",
      "Omnibus:                        4.723   Durbin-Watson:                   1.169\n",
      "Prob(Omnibus):                  0.094   Jarque-Bera (JB):                3.939\n",
      "Skew:                           0.453   Prob(JB):                        0.139\n",
      "Kurtosis:                       3.601   Cond. No.                     9.26e+03\n",
      "==============================================================================\n",
      "\n",
      "Notes:\n",
      "[1] Standard Errors assume that the covariance matrix of the errors is correctly specified.\n",
      "[2] The condition number is large, 9.26e+03. This might indicate that there are\n",
      "strong multicollinearity or other numerical problems.\n"
     ]
    }
   ],
   "source": [
    "import statsmodels.api as sm\n",
    "#Unlike SKLearn, statsmodels don't automatically fit a constant, \n",
    "#so you need to use the method sm.add_constant(X) in order to add a constant. \n",
    "X = sm.add_constant(X)\n",
    "# create a fitted model in one line\n",
    "lm_8 = sm.OLS(y,X).fit()\n",
    "print(lm_8.summary())"
   ]
  },
  {
   "cell_type": "code",
   "execution_count": 189,
   "metadata": {},
   "outputs": [],
   "source": [
    "#Ad impression in million\n",
    "media['ad_impression_million'] = media['Ad_impression']/1000000\n"
   ]
  },
  {
   "cell_type": "markdown",
   "metadata": {},
   "source": [
    "#### Running seventh model (lm7) Character_A, weekend, Visitors, ad_impressions_million & Cricket_match_india"
   ]
  },
  {
   "cell_type": "code",
   "execution_count": 190,
   "metadata": {},
   "outputs": [],
   "source": [
    "# Putting feature variable to X\n",
    "X = media[['weekend','Character_A','ad_impression_million','Cricket_match_india']]\n",
    "\n",
    "# Putting response variable to y\n",
    "y = media['Views_show']"
   ]
  },
  {
   "cell_type": "code",
   "execution_count": 191,
   "metadata": {},
   "outputs": [
    {
     "name": "stdout",
     "output_type": "stream",
     "text": [
      "                            OLS Regression Results                            \n",
      "==============================================================================\n",
      "Dep. Variable:             Views_show   R-squared:                       0.803\n",
      "Model:                            OLS   Adj. R-squared:                  0.793\n",
      "Method:                 Least Squares   F-statistic:                     76.59\n",
      "Date:                Wed, 25 May 2022   Prob (F-statistic):           1.02e-25\n",
      "Time:                        13:12:22   Log-Likelihood:                -1004.0\n",
      "No. Observations:                  80   AIC:                             2018.\n",
      "Df Residuals:                      75   BIC:                             2030.\n",
      "Df Model:                           4                                         \n",
      "Covariance Type:            nonrobust                                         \n",
      "=========================================================================================\n",
      "                            coef    std err          t      P>|t|      [0.025      0.975]\n",
      "-----------------------------------------------------------------------------------------\n",
      "const                 -2.633e+05    4.8e+04     -5.484      0.000   -3.59e+05   -1.68e+05\n",
      "weekend                1.521e+05    1.9e+04      7.987      0.000    1.14e+05     1.9e+05\n",
      "Character_A           -3.196e+04   2.19e+04     -1.457      0.149   -7.57e+04    1.17e+04\n",
      "ad_impression_million   363.7938     37.113      9.802      0.000     289.861     437.727\n",
      "Cricket_match_india   -1.396e+04   2.74e+04     -0.510      0.612   -6.85e+04    4.06e+04\n",
      "==============================================================================\n",
      "Omnibus:                        5.270   Durbin-Watson:                   1.161\n",
      "Prob(Omnibus):                  0.072   Jarque-Bera (JB):                4.560\n",
      "Skew:                           0.468   Prob(JB):                        0.102\n",
      "Kurtosis:                       3.701   Cond. No.                     9.32e+03\n",
      "==============================================================================\n",
      "\n",
      "Notes:\n",
      "[1] Standard Errors assume that the covariance matrix of the errors is correctly specified.\n",
      "[2] The condition number is large, 9.32e+03. This might indicate that there are\n",
      "strong multicollinearity or other numerical problems.\n"
     ]
    }
   ],
   "source": [
    "import statsmodels.api as sm\n",
    "#Unlike SKLearn, statsmodels don't automatically fit a constant, \n",
    "#so you need to use the method sm.add_constant(X) in order to add a constant. \n",
    "X = sm.add_constant(X)\n",
    "# create a fitted model in one line\n",
    "lm_9 = sm.OLS(y,X).fit()\n",
    "print(lm_9.summary())"
   ]
  },
  {
   "cell_type": "markdown",
   "metadata": {},
   "source": [
    "# lm 10\n",
    "\n"
   ]
  },
  {
   "cell_type": "code",
   "execution_count": 234,
   "metadata": {},
   "outputs": [],
   "source": [
    "X = media[['weekend','Character_A','ad_impression_million']]\n",
    "\n",
    "# Putting response variable to y\n",
    "y = media['Views_show']"
   ]
  },
  {
   "cell_type": "code",
   "execution_count": 235,
   "metadata": {},
   "outputs": [
    {
     "name": "stdout",
     "output_type": "stream",
     "text": [
      "                            OLS Regression Results                            \n",
      "==============================================================================\n",
      "Dep. Variable:             Views_show   R-squared:                       0.803\n",
      "Model:                            OLS   Adj. R-squared:                  0.795\n",
      "Method:                 Least Squares   F-statistic:                     103.0\n",
      "Date:                Wed, 25 May 2022   Prob (F-statistic):           1.05e-26\n",
      "Time:                        13:37:50   Log-Likelihood:                -1004.2\n",
      "No. Observations:                  80   AIC:                             2016.\n",
      "Df Residuals:                      76   BIC:                             2026.\n",
      "Df Model:                           3                                         \n",
      "Covariance Type:            nonrobust                                         \n",
      "=========================================================================================\n",
      "                            coef    std err          t      P>|t|      [0.025      0.975]\n",
      "-----------------------------------------------------------------------------------------\n",
      "const                 -2.661e+05   4.74e+04     -5.609      0.000   -3.61e+05   -1.72e+05\n",
      "weekend                 1.51e+05   1.88e+04      8.019      0.000    1.14e+05    1.89e+05\n",
      "Character_A            -2.99e+04   2.14e+04     -1.394      0.167   -7.26e+04    1.28e+04\n",
      "ad_impression_million   364.4670     36.909      9.875      0.000     290.957     437.977\n",
      "==============================================================================\n",
      "Omnibus:                        4.723   Durbin-Watson:                   1.169\n",
      "Prob(Omnibus):                  0.094   Jarque-Bera (JB):                3.939\n",
      "Skew:                           0.453   Prob(JB):                        0.139\n",
      "Kurtosis:                       3.601   Cond. No.                     9.26e+03\n",
      "==============================================================================\n",
      "\n",
      "Notes:\n",
      "[1] Standard Errors assume that the covariance matrix of the errors is correctly specified.\n",
      "[2] The condition number is large, 9.26e+03. This might indicate that there are\n",
      "strong multicollinearity or other numerical problems.\n"
     ]
    }
   ],
   "source": [
    "import statsmodels.api as sm\n",
    "#Unlike SKLearn, statsmodels don't automatically fit a constant, \n",
    "#so you need to use the method sm.add_constant(X) in order to add a constant. \n",
    "X = sm.add_constant(X)\n",
    "# create a fitted model in one line\n",
    "lm_10 = sm.OLS(y,X).fit()\n",
    "print(lm_10.summary())"
   ]
  },
  {
   "cell_type": "code",
   "execution_count": null,
   "metadata": {},
   "outputs": [],
   "source": []
  },
  {
   "cell_type": "code",
   "execution_count": null,
   "metadata": {},
   "outputs": [],
   "source": []
  },
  {
   "cell_type": "code",
   "execution_count": null,
   "metadata": {},
   "outputs": [],
   "source": []
  },
  {
   "cell_type": "code",
   "execution_count": null,
   "metadata": {},
   "outputs": [],
   "source": []
  },
  {
   "cell_type": "markdown",
   "metadata": {},
   "source": [
    "#### Making predictions using lm10"
   ]
  },
  {
   "cell_type": "code",
   "execution_count": 236,
   "metadata": {},
   "outputs": [],
   "source": [
    "# Making predictions using the model\n",
    "X = media[['weekend','Character_A','ad_impression_million']]\n",
    "X = sm.add_constant(X)\n",
    "Predicted_views = lm_10.predict(X)"
   ]
  },
  {
   "cell_type": "code",
   "execution_count": 237,
   "metadata": {},
   "outputs": [],
   "source": [
    "from sklearn.metrics import mean_squared_error, r2_score\n",
    "mse = mean_squared_error(media.Views_show, Predicted_views)\n",
    "r_squared = r2_score(media.Views_show, Predicted_views)"
   ]
  },
  {
   "cell_type": "code",
   "execution_count": 238,
   "metadata": {},
   "outputs": [
    {
     "name": "stdout",
     "output_type": "stream",
     "text": [
      "Mean_Squared_Error : 4677651616.253406\n",
      "r_square_value : 0.8026434468575651\n"
     ]
    }
   ],
   "source": [
    "print('Mean_Squared_Error :' ,mse)\n",
    "print('r_square_value :',r_squared)"
   ]
  },
  {
   "cell_type": "code",
   "execution_count": 239,
   "metadata": {},
   "outputs": [
    {
     "data": {
      "text/plain": [
       "Text(0, 0.5, 'Views')"
      ]
     },
     "execution_count": 239,
     "metadata": {},
     "output_type": "execute_result"
    },
    {
     "data": {
      "image/png": "[encoded data removed]",
      "text/plain": [
       "<Figure size 432x288 with 1 Axes>"
      ]
     },
     "metadata": {
      "needs_background": "light"
     },
     "output_type": "display_data"
    }
   ],
   "source": [
    "#Actual vs Predicted\n",
    "c = [i for i in range(1,81,1)]\n",
    "fig = plt.figure()\n",
    "plt.plot(c,media.Views_show, color=\"blue\", linewidth=2.5, linestyle=\"-\")\n",
    "plt.plot(c,Predicted_views, color=\"red\",  linewidth=2.5, linestyle=\"-\")\n",
    "\n",
    "fig.suptitle('Actual and Predicted', fontsize=20)              # Plot heading \n",
    "plt.xlabel('Index', fontsize=18)                               # X-label\n",
    "plt.ylabel('Views', fontsize=16)    \n",
    "\n",
    "# Y-label"
   ]
  },
  {
   "cell_type": "code",
   "execution_count": 240,
   "metadata": {},
   "outputs": [
    {
     "data": {
      "text/plain": [
       "Text(0, 0.5, 'Views_show-Predicted_views')"
      ]
     },
     "execution_count": 240,
     "metadata": {},
     "output_type": "execute_result"
    },
    {
     "data": {
      "image/png": "[encoded data removed]",
      "text/plain": [
       "<Figure size 432x288 with 1 Axes>"
      ]
     },
     "metadata": {
      "needs_background": "light"
     },
     "output_type": "display_data"
    }
   ],
   "source": [
    "# Error terms\n",
    "c = [i for i in range(1,81,1)]\n",
    "fig = plt.figure()\n",
    "plt.plot(c,media.Views_show-Predicted_views, color=\"blue\", linewidth=2.5, linestyle=\"-\")\n",
    "fig.suptitle('Error Terms', fontsize=20)              # Plot heading \n",
    "plt.xlabel('Index', fontsize=18)                      # X-label\n",
    "plt.ylabel('Views_show-Predicted_views', fontsize=16)                # Y-label"
   ]
  },
  {
   "cell_type": "markdown",
   "metadata": {},
   "source": [
    "#### Making predictions using lm6"
   ]
  },
  {
   "cell_type": "code",
   "execution_count": 227,
   "metadata": {},
   "outputs": [],
   "source": [
    "# Making predictions using the model\n",
    "X = media[['weekend','Character_A','Visitors']]\n",
    "X = sm.add_constant(X)\n",
    "Predicted_views = lm_6.predict(X)"
   ]
  },
  {
   "cell_type": "code",
   "execution_count": 228,
   "metadata": {},
   "outputs": [],
   "source": [
    "from sklearn.metrics import mean_squared_error, r2_score\n",
    "mse = mean_squared_error(media.Views_show, Predicted_views)\n",
    "r_squared = r2_score(media.Views_show, Predicted_views)"
   ]
  },
  {
   "cell_type": "code",
   "execution_count": 229,
   "metadata": {},
   "outputs": [
    {
     "name": "stdout",
     "output_type": "stream",
     "text": [
      "Mean_Squared_Error : 9815432480.45152\n",
      "r_square_value : 0.5858734080979341\n"
     ]
    }
   ],
   "source": [
    "print('Mean_Squared_Error :' ,mse)\n",
    "print('r_square_value :',r_squared)"
   ]
  },
  {
   "cell_type": "code",
   "execution_count": 230,
   "metadata": {},
   "outputs": [
    {
     "data": {
      "text/plain": [
       "Text(0, 0.5, 'Views')"
      ]
     },
     "execution_count": 230,
     "metadata": {},
     "output_type": "execute_result"
    },
    {
     "data": {
      "image/png": "[encoded data removed]",
      "text/plain": [
       "<Figure size 432x288 with 1 Axes>"
      ]
     },
     "metadata": {
      "needs_background": "light"
     },
     "output_type": "display_data"
    }
   ],
   "source": [
    "#Actual vs Predicted\n",
    "c = [i for i in range(1,81,1)]\n",
    "fig = plt.figure()\n",
    "plt.plot(c,media.Views_show, color=\"blue\", linewidth=2.5, linestyle=\"-\")\n",
    "plt.plot(c,Predicted_views, color=\"red\",  linewidth=2.5, linestyle=\"-\")\n",
    "fig.suptitle('Actual and Predicted', fontsize=20)              # Plot heading \n",
    "plt.xlabel('Index', fontsize=18)                               # X-label\n",
    "plt.ylabel('Views', fontsize=16)                               # Y-label"
   ]
  },
  {
   "cell_type": "code",
   "execution_count": 231,
   "metadata": {},
   "outputs": [
    {
     "data": {
      "text/plain": [
       "Text(0, 0.5, 'Views_show-Predicted_views')"
      ]
     },
     "execution_count": 231,
     "metadata": {},
     "output_type": "execute_result"
    },
    {
     "data": {
      "image/png": "[encoded data removed]",
      "text/plain": [
       "<Figure size 432x288 with 1 Axes>"
      ]
     },
     "metadata": {
      "needs_background": "light"
     },
     "output_type": "display_data"
    }
   ],
   "source": [
    "# Error terms\n",
    "c = [i for i in range(1,81,1)]\n",
    "fig = plt.figure()\n",
    "plt.plot(c,media.Views_show-Predicted_views, color=\"blue\", linewidth=2.5, linestyle=\"-\")\n",
    "fig.suptitle('Error Terms', fontsize=20)              # Plot heading \n",
    "plt.xlabel('Index', fontsize=18)                      # X-label\n",
    "plt.ylabel('Views_show-Predicted_views', fontsize=16)                # Y-label"
   ]
  },
  {
   "cell_type": "code",
   "execution_count": null,
   "metadata": {},
   "outputs": [],
   "source": []
  }
 ],
 "metadata": {
  "kernelspec": {
   "display_name": "Python 3 (ipykernel)",
   "language": "python",
   "name": "python3"
  },
  "language_info": {
   "codemirror_mode": {
    "name": "ipython",
    "version": 3
   },
   "file_extension": ".py",
   "mimetype": "text/x-python",
   "name": "python",
   "nbconvert_exporter": "python",
   "pygments_lexer": "ipython3",
   "version": "3.10.1"
  }
 },
 "nbformat": 4,
 "nbformat_minor": 2
}
